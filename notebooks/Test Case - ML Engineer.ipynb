{
 "cells": [
  {
   "cell_type": "markdown",
   "metadata": {
    "colab_type": "text",
    "id": "cp9rmOO_4w1C"
   },
   "source": [
    "# **Classificação de Customers com Machine Learning**\n",
    "\n",
    "Cada vez mais empresas que trabalham com cobranças e gestão de pagamentos utilizam técnicas de análise de dados e aprendizado de máquina para melhorar suas operações. Algumas aplicações incluem a previsão de inadimplência, otimização de estratégias de cobrança e personalização da abordagem para cada cliente. Neste projeto, abordaremos a classificação de *customers* com base em seus padrões de pagamento.\n",
    "\n",
    "O comportamento de pagamento dos *customers* influencia diretamente as taxas de inadimplência e a eficiência dos processos de cobrança. Para entender melhor esses padrões, trabalharemos com um conjunto de dados contendo informações sobre *companies* (nossos clientes) e *payments* (histórico de cobranças feitas para *customers* e seus status). A partir desses dados, desenvolveremos um modelo de *machine learning* capaz de classificar os *customers* em diferentes categorias de pagadores.\n",
    "\n",
    "## **Objetivo**\n",
    "\n",
    "O objetivo deste projeto é treinar, testar e avaliar um modelo de *machine learning* capaz de classificar *customers* de acordo com seu comportamento de pagamento. Com essa classificação, poderemos auxiliar as *companies* na redução da inadimplência e na otimização de suas estratégias de cobrança.\n",
    "\n",
    "Para isso, passaremos pelas seguintes etapas:\n",
    "\n",
    "1. **Exploração e limpeza dos dados:** Identificação de padrões, valores ausentes e inconsistências nos dados.\n",
    "2. **Engenharia de atributos (*feature engineering*):** Criação de novas variáveis relevantes para a classificação dos *customers*.\n",
    "3. **Preparação dos dados:** Normalização e transformação das variáveis para melhor desempenho do modelo.\n",
    "4. **Definição de categorias de pagadores:** Segmentação dos *customers* em categorias como:\n",
    "    - **Bons Pagadores**\n",
    "    - **Pagadores Duvidosos**\n",
    "    - **Maus Pagadores**\n",
    "    - **Pagadores Esquecidos**\n",
    "    - **Novos Pagadores**\n",
    "5. **Seleção e treinamento do modelo:** Avaliação de diferentes algoritmos de *machine learning* e escolha do mais adequado.\n",
    "6. **Validação do modelo:** Teste com dados de validação e avaliação de métricas como acurácia, *F1-score* e matriz de confusão.\n",
    "7. **Implantação via API:** Desenvolvimento de uma API para consulta da classificação de *customers* em tempo real.\n",
    "\n",
    "## **Resultados Esperados**\n",
    "\n",
    "Com a implementação deste modelo, esperamos atingir os seguintes resultados:\n",
    "\n",
    "- **Redução da taxa de inadimplência para menos de 5%.**\n",
    "- **Melhoria no atendimento ao cliente, com abordagens personalizadas de cobrança.**\n",
    "- **Maior previsibilidade do fluxo de caixa para as *companies*.**\n",
    "\n",
    "Este projeto fornecerá uma ferramenta robusta para otimizar os processos de cobrança e melhorar a relação entre *companies* e *customers*, aumentando a eficiência operacional e reduzindo riscos financeiros."
   ]
  },
  {
   "cell_type": "markdown",
   "metadata": {
    "colab_type": "text",
    "id": "Yq6TsKdFfjm-"
   },
   "source": [
    "## **Análise Exploratória e Limpeza dos Dados**\n",
    "Vamos começar instalando e importando tudo o que for necessário. Em seguida, vamos configurar o notebook e ler os dados em um DataFrame."
   ]
  },
  {
   "cell_type": "code",
   "execution_count": 278,
   "metadata": {},
   "outputs": [
    {
     "name": "stdout",
     "output_type": "stream",
     "text": [
      "Requirement already satisfied: scikit-learn==1.4.0 in /home/gerson/.cache/pypoetry/virtualenvs/neofin-machine-learning-engineer-challenge-wGnavEa_-py3.10/lib/python3.10/site-packages (1.4.0)\n",
      "Requirement already satisfied: xgboost in /home/gerson/.cache/pypoetry/virtualenvs/neofin-machine-learning-engineer-challenge-wGnavEa_-py3.10/lib/python3.10/site-packages (2.0.3)\n",
      "Requirement already satisfied: matplotlib in /home/gerson/.cache/pypoetry/virtualenvs/neofin-machine-learning-engineer-challenge-wGnavEa_-py3.10/lib/python3.10/site-packages (3.9.0)\n",
      "Requirement already satisfied: pandas in /home/gerson/.cache/pypoetry/virtualenvs/neofin-machine-learning-engineer-challenge-wGnavEa_-py3.10/lib/python3.10/site-packages (2.2.2)\n",
      "Requirement already satisfied: numpy in /home/gerson/.cache/pypoetry/virtualenvs/neofin-machine-learning-engineer-challenge-wGnavEa_-py3.10/lib/python3.10/site-packages (1.26.4)\n",
      "Requirement already satisfied: seaborn in /home/gerson/.cache/pypoetry/virtualenvs/neofin-machine-learning-engineer-challenge-wGnavEa_-py3.10/lib/python3.10/site-packages (0.13.2)\n",
      "Requirement already satisfied: imblearn in /home/gerson/.cache/pypoetry/virtualenvs/neofin-machine-learning-engineer-challenge-wGnavEa_-py3.10/lib/python3.10/site-packages (0.0)\n",
      "Requirement already satisfied: scipy>=1.6.0 in /home/gerson/.cache/pypoetry/virtualenvs/neofin-machine-learning-engineer-challenge-wGnavEa_-py3.10/lib/python3.10/site-packages (from scikit-learn==1.4.0) (1.13.1)\n",
      "Requirement already satisfied: joblib>=1.2.0 in /home/gerson/.cache/pypoetry/virtualenvs/neofin-machine-learning-engineer-challenge-wGnavEa_-py3.10/lib/python3.10/site-packages (from scikit-learn==1.4.0) (1.4.0)\n",
      "Requirement already satisfied: threadpoolctl>=2.0.0 in /home/gerson/.cache/pypoetry/virtualenvs/neofin-machine-learning-engineer-challenge-wGnavEa_-py3.10/lib/python3.10/site-packages (from scikit-learn==1.4.0) (3.5.0)\n",
      "Requirement already satisfied: contourpy>=1.0.1 in /home/gerson/.cache/pypoetry/virtualenvs/neofin-machine-learning-engineer-challenge-wGnavEa_-py3.10/lib/python3.10/site-packages (from matplotlib) (1.2.1)\n",
      "Requirement already satisfied: cycler>=0.10 in /home/gerson/.cache/pypoetry/virtualenvs/neofin-machine-learning-engineer-challenge-wGnavEa_-py3.10/lib/python3.10/site-packages (from matplotlib) (0.12.1)\n",
      "Requirement already satisfied: fonttools>=4.22.0 in /home/gerson/.cache/pypoetry/virtualenvs/neofin-machine-learning-engineer-challenge-wGnavEa_-py3.10/lib/python3.10/site-packages (from matplotlib) (4.52.4)\n",
      "Requirement already satisfied: kiwisolver>=1.3.1 in /home/gerson/.cache/pypoetry/virtualenvs/neofin-machine-learning-engineer-challenge-wGnavEa_-py3.10/lib/python3.10/site-packages (from matplotlib) (1.4.5)\n",
      "Requirement already satisfied: packaging>=20.0 in /home/gerson/.cache/pypoetry/virtualenvs/neofin-machine-learning-engineer-challenge-wGnavEa_-py3.10/lib/python3.10/site-packages (from matplotlib) (24.0)\n",
      "Requirement already satisfied: pillow>=8 in /home/gerson/.cache/pypoetry/virtualenvs/neofin-machine-learning-engineer-challenge-wGnavEa_-py3.10/lib/python3.10/site-packages (from matplotlib) (10.3.0)\n",
      "Requirement already satisfied: pyparsing>=2.3.1 in /home/gerson/.cache/pypoetry/virtualenvs/neofin-machine-learning-engineer-challenge-wGnavEa_-py3.10/lib/python3.10/site-packages (from matplotlib) (3.1.2)\n",
      "Requirement already satisfied: python-dateutil>=2.7 in /home/gerson/.cache/pypoetry/virtualenvs/neofin-machine-learning-engineer-challenge-wGnavEa_-py3.10/lib/python3.10/site-packages (from matplotlib) (2.9.0.post0)\n",
      "Requirement already satisfied: pytz>=2020.1 in /home/gerson/.cache/pypoetry/virtualenvs/neofin-machine-learning-engineer-challenge-wGnavEa_-py3.10/lib/python3.10/site-packages (from pandas) (2024.1)\n",
      "Requirement already satisfied: tzdata>=2022.7 in /home/gerson/.cache/pypoetry/virtualenvs/neofin-machine-learning-engineer-challenge-wGnavEa_-py3.10/lib/python3.10/site-packages (from pandas) (2024.1)\n",
      "Requirement already satisfied: imbalanced-learn in /home/gerson/.cache/pypoetry/virtualenvs/neofin-machine-learning-engineer-challenge-wGnavEa_-py3.10/lib/python3.10/site-packages (from imblearn) (0.12.3)\n",
      "Requirement already satisfied: six>=1.5 in /home/gerson/.cache/pypoetry/virtualenvs/neofin-machine-learning-engineer-challenge-wGnavEa_-py3.10/lib/python3.10/site-packages (from python-dateutil>=2.7->matplotlib) (1.16.0)\n",
      "\n",
      "\u001b[1m[\u001b[0m\u001b[34;49mnotice\u001b[0m\u001b[1;39;49m]\u001b[0m\u001b[39;49m A new release of pip is available: \u001b[0m\u001b[31;49m24.3.1\u001b[0m\u001b[39;49m -> \u001b[0m\u001b[32;49m25.0.1\u001b[0m\n",
      "\u001b[1m[\u001b[0m\u001b[34;49mnotice\u001b[0m\u001b[1;39;49m]\u001b[0m\u001b[39;49m To update, run: \u001b[0m\u001b[32;49mpip install --upgrade pip\u001b[0m\n"
     ]
    }
   ],
   "source": [
    "!pip install scikit-learn==1.4.0 xgboost matplotlib pandas numpy seaborn imblearn"
   ]
  },
  {
   "cell_type": "code",
   "execution_count": 279,
   "metadata": {
    "colab": {
     "base_uri": "https://localhost:8080/",
     "height": 669
    },
    "colab_type": "code",
    "id": "Bx17VEA4wE79",
    "outputId": "6172632f-2bb2-4b8e-8da2-a568fbdce256"
   },
   "outputs": [],
   "source": [
    "# Importando pacotes e bibliotecas\n",
    "import pandas as pd\n",
    "import numpy as np\n",
    "import matplotlib.pyplot as plt\n",
    "import seaborn as sns\n",
    "from sklearn.preprocessing import LabelEncoder\n",
    "from sklearn.model_selection import train_test_split\n",
    "from sklearn.model_selection import cross_validate\n",
    "from xgboost import XGBClassifier\n",
    "from imblearn.under_sampling import RandomUnderSampler\n",
    "from imblearn.over_sampling import RandomOverSampler\n",
    "from sklearn.ensemble import RandomForestClassifier\n",
    "from sklearn.linear_model import LogisticRegression\n",
    "from sklearn.neural_network import MLPClassifier\n",
    "from sklearn.tree import DecisionTreeClassifier\n",
    "from sklearn.model_selection import GridSearchCV\n",
    "from sklearn.model_selection import StratifiedKFold\n",
    "from sklearn.utils import resample\n",
    "from sklearn.preprocessing import StandardScaler, OneHotEncoder\n",
    "from sklearn.pipeline import Pipeline\n",
    "from sklearn.metrics import (\n",
    "    classification_report,\n",
    "    accuracy_score,\n",
    "    recall_score,\n",
    "    f1_score,\n",
    "    confusion_matrix,\n",
    "    classification_report,\n",
    "    roc_auc_score,\n",
    ")\n",
    "from scipy.stats import ks_2samp\n",
    "from sklearn.compose import make_column_transformer\n",
    "import pickle\n",
    "from sklearn.compose import ColumnTransformer\n",
    "\n",
    "\n",
    "# Configurando o notebook\n",
    "sns.set()\n",
    "%matplotlib inline"
   ]
  },
  {
   "cell_type": "code",
   "execution_count": 280,
   "metadata": {},
   "outputs": [],
   "source": [
    "# Lendo os dados de treino e teste\n",
    "# File paths\n",
    "payments_file = \"../data/payments_mle.csv\"\n",
    "companies_file = \"../data/company_profiling_mle.csv\"\n",
    "\n",
    "# Load the CSV files\n",
    "payments_df = pd.read_csv(payments_file)\n",
    "companies_df = pd.read_csv(companies_file)"
   ]
  },
  {
   "cell_type": "code",
   "execution_count": 281,
   "metadata": {},
   "outputs": [
    {
     "data": {
      "text/html": [
       "<div>\n",
       "<style scoped>\n",
       "    .dataframe tbody tr th:only-of-type {\n",
       "        vertical-align: middle;\n",
       "    }\n",
       "\n",
       "    .dataframe tbody tr th {\n",
       "        vertical-align: top;\n",
       "    }\n",
       "\n",
       "    .dataframe thead th {\n",
       "        text-align: right;\n",
       "    }\n",
       "</style>\n",
       "<table border=\"1\" class=\"dataframe\">\n",
       "  <thead>\n",
       "    <tr style=\"text-align: right;\">\n",
       "      <th></th>\n",
       "      <th>company_id</th>\n",
       "      <th>company_name</th>\n",
       "      <th>company_document</th>\n",
       "      <th>company_trade_name</th>\n",
       "      <th>customer_id</th>\n",
       "      <th>customer_name</th>\n",
       "      <th>customer_trade_name</th>\n",
       "      <th>parent_type</th>\n",
       "      <th>parent_id</th>\n",
       "      <th>payment_number</th>\n",
       "      <th>...</th>\n",
       "      <th>os_code</th>\n",
       "      <th>os_identifier</th>\n",
       "      <th>by_mail</th>\n",
       "      <th>by_whatsapp</th>\n",
       "      <th>fees</th>\n",
       "      <th>fine</th>\n",
       "      <th>paid_at</th>\n",
       "      <th>paid_method</th>\n",
       "      <th>manual</th>\n",
       "      <th>billing_number</th>\n",
       "    </tr>\n",
       "  </thead>\n",
       "  <tbody>\n",
       "    <tr>\n",
       "      <th>0</th>\n",
       "      <td>83 0b f4 f3 45 67 54 39 74 c5 43 31 ae 73 a3 0...</td>\n",
       "      <td>40 f9 0d a5 a9 d9 29 33 ac 84 f2 9b 3f 86 b0 0...</td>\n",
       "      <td>37 2a 52 fa 18 60 9c 5c 72 47 98 27 bd 58 45 8...</td>\n",
       "      <td>40 f9 0d a5 a9 d9 29 33 ac 84 f2 9b 3f 86 b0 0...</td>\n",
       "      <td>02 60 80 35 3c d3 09 5f be 20 e5 8d ed 3d 2e f...</td>\n",
       "      <td>c4 52 91 30 34 b0 96 83 05 98 61 da 5c 3b a1 1...</td>\n",
       "      <td>c4 52 91 30 34 b0 96 83 05 98 61 da 5c 3b a1 1...</td>\n",
       "      <td>billing</td>\n",
       "      <td>f02f0294-ce57-431c-b008-483d92dce72a</td>\n",
       "      <td>e5 fa 90 b0 7e 55 6e 80 20 06 2b f0 f8 30 cc 5...</td>\n",
       "      <td>...</td>\n",
       "      <td>e3 b0 c4 42 98 fc 1c 14 9a fb f4 c8 99 6f b9 2...</td>\n",
       "      <td>e3 b0 c4 42 98 fc 1c 14 9a fb f4 c8 99 6f b9 2...</td>\n",
       "      <td>True</td>\n",
       "      <td>True</td>\n",
       "      <td>0.00</td>\n",
       "      <td>0.0</td>\n",
       "      <td>2025-01-05 15:04:28.000</td>\n",
       "      <td>generic</td>\n",
       "      <td>NaN</td>\n",
       "      <td>44 b5 2b 63 14 51 4a 9e be e1 19 c0 39 ad af 2...</td>\n",
       "    </tr>\n",
       "    <tr>\n",
       "      <th>1</th>\n",
       "      <td>b9 b4 d3 32 b2 62 20 af f7 26 e3 3f cf b4 64 1...</td>\n",
       "      <td>fb 76 cc 4a 25 c5 45 65 72 79 9b 9f 25 9f 4d 7...</td>\n",
       "      <td>e4 9d e1 3d 2b bd a8 b5 84 50 25 8b 65 45 9e 4...</td>\n",
       "      <td>e6 26 0e 20 3a a4 18 a7 0f 9e f3 68 cd 5d fa 7...</td>\n",
       "      <td>ed 0b 83 5b 92 a2 3e 21 44 24 b7 28 7f c5 5b 7...</td>\n",
       "      <td>cb f7 6d dd a6 e6 e9 47 09 af 25 1f ab a4 04 4...</td>\n",
       "      <td>cb f7 6d dd a6 e6 e9 47 09 af 25 1f ab a4 04 4...</td>\n",
       "      <td>billing</td>\n",
       "      <td>3ba1690b-3ee7-4937-87c9-9364c689dc0b</td>\n",
       "      <td>40 e9 bd 2a 81 7c aa 6f 92 ef c3 c1 dd fb a3 8...</td>\n",
       "      <td>...</td>\n",
       "      <td>e3 b0 c4 42 98 fc 1c 14 9a fb f4 c8 99 6f b9 2...</td>\n",
       "      <td>e3 b0 c4 42 98 fc 1c 14 9a fb f4 c8 99 6f b9 2...</td>\n",
       "      <td>True</td>\n",
       "      <td>True</td>\n",
       "      <td>0.03</td>\n",
       "      <td>2.0</td>\n",
       "      <td>2024-12-17 17:47:57.000</td>\n",
       "      <td>generic</td>\n",
       "      <td>NaN</td>\n",
       "      <td>eb 17 84 07 43 4f ec 32 69 0e 43 b9 81 3c 64 b...</td>\n",
       "    </tr>\n",
       "    <tr>\n",
       "      <th>2</th>\n",
       "      <td>3f 7a 5c a6 fa 4c 9f f8 6c ab d2 72 1b 90 a6 2...</td>\n",
       "      <td>dc 69 8b 2d 91 06 68 f1 03 f8 7e 89 87 e7 95 c...</td>\n",
       "      <td>c4 ce b5 1a 42 43 79 50 23 05 f9 0d 37 9a ea 3...</td>\n",
       "      <td>dc 69 8b 2d 91 06 68 f1 03 f8 7e 89 87 e7 95 c...</td>\n",
       "      <td>b4 ad 5e 26 79 63 c7 c3 ec 7b 8a 88 5e e7 26 5...</td>\n",
       "      <td>77 0d ed 1b cd 12 54 ff ca 44 fb 52 74 c5 b7 1...</td>\n",
       "      <td>77 0d ed 1b cd 12 54 ff ca 44 fb 52 74 c5 b7 1...</td>\n",
       "      <td>billing</td>\n",
       "      <td>ee993458-d9dd-428b-b995-f542b2bef264</td>\n",
       "      <td>96 71 57 09 57 a0 ac df 5a 82 a8 2e e3 b7 32 5...</td>\n",
       "      <td>...</td>\n",
       "      <td>e3 b0 c4 42 98 fc 1c 14 9a fb f4 c8 99 6f b9 2...</td>\n",
       "      <td>e3 b0 c4 42 98 fc 1c 14 9a fb f4 c8 99 6f b9 2...</td>\n",
       "      <td>True</td>\n",
       "      <td>True</td>\n",
       "      <td>0.98</td>\n",
       "      <td>2.0</td>\n",
       "      <td>2024-11-11 12:00:00.000</td>\n",
       "      <td>NaN</td>\n",
       "      <td>NaN</td>\n",
       "      <td>c2 6f 6d 0a 98 05 1a 0c e6 f2 63 c1 97 3b d8 1...</td>\n",
       "    </tr>\n",
       "    <tr>\n",
       "      <th>3</th>\n",
       "      <td>90 67 43 78 39 4d 72 52 47 d5 56 00 6b 1d b3 5...</td>\n",
       "      <td>db 00 ac ad 79 5c 85 7f c9 89 a7 b7 ad 52 84 5...</td>\n",
       "      <td>94 08 68 68 55 46 70 e7 52 13 1c 3c 3f 71 a5 9...</td>\n",
       "      <td>db 00 ac ad 79 5c 85 7f c9 89 a7 b7 ad 52 84 5...</td>\n",
       "      <td>54 df 75 cf 73 13 2a 0f f8 b6 0e 83 cd 09 b0 3...</td>\n",
       "      <td>99 d2 25 b5 08 09 21 b2 3b 9c 48 90 09 ef 30 2...</td>\n",
       "      <td>99 d2 25 b5 08 09 21 b2 3b 9c 48 90 09 ef 30 2...</td>\n",
       "      <td>billing</td>\n",
       "      <td>401ae05c-a670-4ac4-8e8c-c7413dc49095</td>\n",
       "      <td>a5 64 91 9f 33 fb e9 83 fa 2f 7c 8e 49 a7 08 0...</td>\n",
       "      <td>...</td>\n",
       "      <td>e3 b0 c4 42 98 fc 1c 14 9a fb f4 c8 99 6f b9 2...</td>\n",
       "      <td>e3 b0 c4 42 98 fc 1c 14 9a fb f4 c8 99 6f b9 2...</td>\n",
       "      <td>True</td>\n",
       "      <td>True</td>\n",
       "      <td>1.00</td>\n",
       "      <td>2.0</td>\n",
       "      <td>NaN</td>\n",
       "      <td>NaN</td>\n",
       "      <td>NaN</td>\n",
       "      <td>d8 4d 2c 23 93 68 fc 9f bc 11 34 ba 2c 48 0b 4...</td>\n",
       "    </tr>\n",
       "    <tr>\n",
       "      <th>4</th>\n",
       "      <td>3f 7a 5c a6 fa 4c 9f f8 6c ab d2 72 1b 90 a6 2...</td>\n",
       "      <td>dc 69 8b 2d 91 06 68 f1 03 f8 7e 89 87 e7 95 c...</td>\n",
       "      <td>c4 ce b5 1a 42 43 79 50 23 05 f9 0d 37 9a ea 3...</td>\n",
       "      <td>dc 69 8b 2d 91 06 68 f1 03 f8 7e 89 87 e7 95 c...</td>\n",
       "      <td>d5 52 50 e5 07 2f ec da bb de a2 67 d6 47 29 e...</td>\n",
       "      <td>05 9b 12 90 35 a7 ca 6c a8 78 57 cb c7 fc fb 6...</td>\n",
       "      <td>05 9b 12 90 35 a7 ca 6c a8 78 57 cb c7 fc fb 6...</td>\n",
       "      <td>billing</td>\n",
       "      <td>b320a402-490b-47bf-922d-c37b1f90cb7c</td>\n",
       "      <td>6a f5 15 b0 68 9a d5 07 86 1a 0b 51 5d da 6d 3...</td>\n",
       "      <td>...</td>\n",
       "      <td>e3 b0 c4 42 98 fc 1c 14 9a fb f4 c8 99 6f b9 2...</td>\n",
       "      <td>e3 b0 c4 42 98 fc 1c 14 9a fb f4 c8 99 6f b9 2...</td>\n",
       "      <td>True</td>\n",
       "      <td>True</td>\n",
       "      <td>0.99</td>\n",
       "      <td>2.0</td>\n",
       "      <td>NaN</td>\n",
       "      <td>NaN</td>\n",
       "      <td>NaN</td>\n",
       "      <td>c9 d5 47 e3 74 1c 51 cd f6 a2 0c f5 98 93 b9 4...</td>\n",
       "    </tr>\n",
       "  </tbody>\n",
       "</table>\n",
       "<p>5 rows × 39 columns</p>\n",
       "</div>"
      ],
      "text/plain": [
       "                                          company_id  \\\n",
       "0  83 0b f4 f3 45 67 54 39 74 c5 43 31 ae 73 a3 0...   \n",
       "1  b9 b4 d3 32 b2 62 20 af f7 26 e3 3f cf b4 64 1...   \n",
       "2  3f 7a 5c a6 fa 4c 9f f8 6c ab d2 72 1b 90 a6 2...   \n",
       "3  90 67 43 78 39 4d 72 52 47 d5 56 00 6b 1d b3 5...   \n",
       "4  3f 7a 5c a6 fa 4c 9f f8 6c ab d2 72 1b 90 a6 2...   \n",
       "\n",
       "                                        company_name  \\\n",
       "0  40 f9 0d a5 a9 d9 29 33 ac 84 f2 9b 3f 86 b0 0...   \n",
       "1  fb 76 cc 4a 25 c5 45 65 72 79 9b 9f 25 9f 4d 7...   \n",
       "2  dc 69 8b 2d 91 06 68 f1 03 f8 7e 89 87 e7 95 c...   \n",
       "3  db 00 ac ad 79 5c 85 7f c9 89 a7 b7 ad 52 84 5...   \n",
       "4  dc 69 8b 2d 91 06 68 f1 03 f8 7e 89 87 e7 95 c...   \n",
       "\n",
       "                                    company_document  \\\n",
       "0  37 2a 52 fa 18 60 9c 5c 72 47 98 27 bd 58 45 8...   \n",
       "1  e4 9d e1 3d 2b bd a8 b5 84 50 25 8b 65 45 9e 4...   \n",
       "2  c4 ce b5 1a 42 43 79 50 23 05 f9 0d 37 9a ea 3...   \n",
       "3  94 08 68 68 55 46 70 e7 52 13 1c 3c 3f 71 a5 9...   \n",
       "4  c4 ce b5 1a 42 43 79 50 23 05 f9 0d 37 9a ea 3...   \n",
       "\n",
       "                                  company_trade_name  \\\n",
       "0  40 f9 0d a5 a9 d9 29 33 ac 84 f2 9b 3f 86 b0 0...   \n",
       "1  e6 26 0e 20 3a a4 18 a7 0f 9e f3 68 cd 5d fa 7...   \n",
       "2  dc 69 8b 2d 91 06 68 f1 03 f8 7e 89 87 e7 95 c...   \n",
       "3  db 00 ac ad 79 5c 85 7f c9 89 a7 b7 ad 52 84 5...   \n",
       "4  dc 69 8b 2d 91 06 68 f1 03 f8 7e 89 87 e7 95 c...   \n",
       "\n",
       "                                         customer_id  \\\n",
       "0  02 60 80 35 3c d3 09 5f be 20 e5 8d ed 3d 2e f...   \n",
       "1  ed 0b 83 5b 92 a2 3e 21 44 24 b7 28 7f c5 5b 7...   \n",
       "2  b4 ad 5e 26 79 63 c7 c3 ec 7b 8a 88 5e e7 26 5...   \n",
       "3  54 df 75 cf 73 13 2a 0f f8 b6 0e 83 cd 09 b0 3...   \n",
       "4  d5 52 50 e5 07 2f ec da bb de a2 67 d6 47 29 e...   \n",
       "\n",
       "                                       customer_name  \\\n",
       "0  c4 52 91 30 34 b0 96 83 05 98 61 da 5c 3b a1 1...   \n",
       "1  cb f7 6d dd a6 e6 e9 47 09 af 25 1f ab a4 04 4...   \n",
       "2  77 0d ed 1b cd 12 54 ff ca 44 fb 52 74 c5 b7 1...   \n",
       "3  99 d2 25 b5 08 09 21 b2 3b 9c 48 90 09 ef 30 2...   \n",
       "4  05 9b 12 90 35 a7 ca 6c a8 78 57 cb c7 fc fb 6...   \n",
       "\n",
       "                                 customer_trade_name parent_type  \\\n",
       "0  c4 52 91 30 34 b0 96 83 05 98 61 da 5c 3b a1 1...     billing   \n",
       "1  cb f7 6d dd a6 e6 e9 47 09 af 25 1f ab a4 04 4...     billing   \n",
       "2  77 0d ed 1b cd 12 54 ff ca 44 fb 52 74 c5 b7 1...     billing   \n",
       "3  99 d2 25 b5 08 09 21 b2 3b 9c 48 90 09 ef 30 2...     billing   \n",
       "4  05 9b 12 90 35 a7 ca 6c a8 78 57 cb c7 fc fb 6...     billing   \n",
       "\n",
       "                              parent_id  \\\n",
       "0  f02f0294-ce57-431c-b008-483d92dce72a   \n",
       "1  3ba1690b-3ee7-4937-87c9-9364c689dc0b   \n",
       "2  ee993458-d9dd-428b-b995-f542b2bef264   \n",
       "3  401ae05c-a670-4ac4-8e8c-c7413dc49095   \n",
       "4  b320a402-490b-47bf-922d-c37b1f90cb7c   \n",
       "\n",
       "                                      payment_number  ...  \\\n",
       "0  e5 fa 90 b0 7e 55 6e 80 20 06 2b f0 f8 30 cc 5...  ...   \n",
       "1  40 e9 bd 2a 81 7c aa 6f 92 ef c3 c1 dd fb a3 8...  ...   \n",
       "2  96 71 57 09 57 a0 ac df 5a 82 a8 2e e3 b7 32 5...  ...   \n",
       "3  a5 64 91 9f 33 fb e9 83 fa 2f 7c 8e 49 a7 08 0...  ...   \n",
       "4  6a f5 15 b0 68 9a d5 07 86 1a 0b 51 5d da 6d 3...  ...   \n",
       "\n",
       "                                             os_code  \\\n",
       "0  e3 b0 c4 42 98 fc 1c 14 9a fb f4 c8 99 6f b9 2...   \n",
       "1  e3 b0 c4 42 98 fc 1c 14 9a fb f4 c8 99 6f b9 2...   \n",
       "2  e3 b0 c4 42 98 fc 1c 14 9a fb f4 c8 99 6f b9 2...   \n",
       "3  e3 b0 c4 42 98 fc 1c 14 9a fb f4 c8 99 6f b9 2...   \n",
       "4  e3 b0 c4 42 98 fc 1c 14 9a fb f4 c8 99 6f b9 2...   \n",
       "\n",
       "                                       os_identifier by_mail by_whatsapp  \\\n",
       "0  e3 b0 c4 42 98 fc 1c 14 9a fb f4 c8 99 6f b9 2...    True        True   \n",
       "1  e3 b0 c4 42 98 fc 1c 14 9a fb f4 c8 99 6f b9 2...    True        True   \n",
       "2  e3 b0 c4 42 98 fc 1c 14 9a fb f4 c8 99 6f b9 2...    True        True   \n",
       "3  e3 b0 c4 42 98 fc 1c 14 9a fb f4 c8 99 6f b9 2...    True        True   \n",
       "4  e3 b0 c4 42 98 fc 1c 14 9a fb f4 c8 99 6f b9 2...    True        True   \n",
       "\n",
       "   fees fine                  paid_at paid_method manual  \\\n",
       "0  0.00  0.0  2025-01-05 15:04:28.000     generic    NaN   \n",
       "1  0.03  2.0  2024-12-17 17:47:57.000     generic    NaN   \n",
       "2  0.98  2.0  2024-11-11 12:00:00.000         NaN    NaN   \n",
       "3  1.00  2.0                      NaN         NaN    NaN   \n",
       "4  0.99  2.0                      NaN         NaN    NaN   \n",
       "\n",
       "                                      billing_number  \n",
       "0  44 b5 2b 63 14 51 4a 9e be e1 19 c0 39 ad af 2...  \n",
       "1  eb 17 84 07 43 4f ec 32 69 0e 43 b9 81 3c 64 b...  \n",
       "2  c2 6f 6d 0a 98 05 1a 0c e6 f2 63 c1 97 3b d8 1...  \n",
       "3  d8 4d 2c 23 93 68 fc 9f bc 11 34 ba 2c 48 0b 4...  \n",
       "4  c9 d5 47 e3 74 1c 51 cd f6 a2 0c f5 98 93 b9 4...  \n",
       "\n",
       "[5 rows x 39 columns]"
      ]
     },
     "execution_count": 281,
     "metadata": {},
     "output_type": "execute_result"
    }
   ],
   "source": [
    "payments_df.head()"
   ]
  },
  {
   "cell_type": "code",
   "execution_count": 282,
   "metadata": {},
   "outputs": [
    {
     "data": {
      "text/html": [
       "<div>\n",
       "<style scoped>\n",
       "    .dataframe tbody tr th:only-of-type {\n",
       "        vertical-align: middle;\n",
       "    }\n",
       "\n",
       "    .dataframe tbody tr th {\n",
       "        vertical-align: top;\n",
       "    }\n",
       "\n",
       "    .dataframe thead th {\n",
       "        text-align: right;\n",
       "    }\n",
       "</style>\n",
       "<table border=\"1\" class=\"dataframe\">\n",
       "  <thead>\n",
       "    <tr style=\"text-align: right;\">\n",
       "      <th></th>\n",
       "      <th>company_id</th>\n",
       "      <th>consider_for_revenue</th>\n",
       "      <th>first_active_date</th>\n",
       "      <th>last_active_date</th>\n",
       "      <th>is_considered_for_recovery</th>\n",
       "      <th>is_cosidered_for_subscription</th>\n",
       "      <th>is_considered_for_wapp_messages_sent</th>\n",
       "      <th>recovery_tax</th>\n",
       "      <th>whatsapp_tax</th>\n",
       "      <th>monthly_fee_tax</th>\n",
       "      <th>...</th>\n",
       "      <th>is_trial_m_2</th>\n",
       "      <th>payments_issued_m-1</th>\n",
       "      <th>payments_issued_with_due_date_same_month_m-1</th>\n",
       "      <th>median_of_issued_payments</th>\n",
       "      <th>growth_rate</th>\n",
       "      <th>is_growing</th>\n",
       "      <th>is_shrinking</th>\n",
       "      <th>is_churn_risk</th>\n",
       "      <th>is_key_account</th>\n",
       "      <th>is_key_onboarding</th>\n",
       "    </tr>\n",
       "  </thead>\n",
       "  <tbody>\n",
       "    <tr>\n",
       "      <th>0</th>\n",
       "      <td>92 1a 42 e8 e8 8d 1c d2 14 14 bc f0 b9 a5 4b a...</td>\n",
       "      <td>False</td>\n",
       "      <td>2024-03-01 00:13:50.000</td>\n",
       "      <td>2024-07-01 20:47:48.000</td>\n",
       "      <td>False</td>\n",
       "      <td>False</td>\n",
       "      <td>False</td>\n",
       "      <td>0.0</td>\n",
       "      <td>0.0</td>\n",
       "      <td>0.0</td>\n",
       "      <td>...</td>\n",
       "      <td>False</td>\n",
       "      <td>NaN</td>\n",
       "      <td>NaN</td>\n",
       "      <td>NaN</td>\n",
       "      <td>NaN</td>\n",
       "      <td>False</td>\n",
       "      <td>False</td>\n",
       "      <td>False</td>\n",
       "      <td>False</td>\n",
       "      <td>False</td>\n",
       "    </tr>\n",
       "    <tr>\n",
       "      <th>1</th>\n",
       "      <td>29 c2 44 63 66 50 c7 5f e7 2b 41 b6 f4 1d c2 5...</td>\n",
       "      <td>True</td>\n",
       "      <td>2023-09-01 11:26:10.000</td>\n",
       "      <td>2025-01-02 11:25:52.000</td>\n",
       "      <td>False</td>\n",
       "      <td>False</td>\n",
       "      <td>False</td>\n",
       "      <td>0.0</td>\n",
       "      <td>0.0</td>\n",
       "      <td>0.0</td>\n",
       "      <td>...</td>\n",
       "      <td>False</td>\n",
       "      <td>78.0</td>\n",
       "      <td>43.0</td>\n",
       "      <td>51.0</td>\n",
       "      <td>-15.686275</td>\n",
       "      <td>False</td>\n",
       "      <td>True</td>\n",
       "      <td>False</td>\n",
       "      <td>False</td>\n",
       "      <td>False</td>\n",
       "    </tr>\n",
       "    <tr>\n",
       "      <th>2</th>\n",
       "      <td>NaN</td>\n",
       "      <td>True</td>\n",
       "      <td>NaN</td>\n",
       "      <td>NaN</td>\n",
       "      <td>False</td>\n",
       "      <td>False</td>\n",
       "      <td>False</td>\n",
       "      <td>0.0</td>\n",
       "      <td>0.0</td>\n",
       "      <td>0.0</td>\n",
       "      <td>...</td>\n",
       "      <td>False</td>\n",
       "      <td>NaN</td>\n",
       "      <td>NaN</td>\n",
       "      <td>NaN</td>\n",
       "      <td>NaN</td>\n",
       "      <td>False</td>\n",
       "      <td>False</td>\n",
       "      <td>False</td>\n",
       "      <td>False</td>\n",
       "      <td>False</td>\n",
       "    </tr>\n",
       "    <tr>\n",
       "      <th>3</th>\n",
       "      <td>20 11 49 31 bf 3a 84 05 fb 51 6e 25 16 82 fb c...</td>\n",
       "      <td>True</td>\n",
       "      <td>2024-09-17 20:53:21.000</td>\n",
       "      <td>2024-09-17 20:53:21.000</td>\n",
       "      <td>False</td>\n",
       "      <td>False</td>\n",
       "      <td>False</td>\n",
       "      <td>0.0</td>\n",
       "      <td>NaN</td>\n",
       "      <td>0.0</td>\n",
       "      <td>...</td>\n",
       "      <td>False</td>\n",
       "      <td>NaN</td>\n",
       "      <td>NaN</td>\n",
       "      <td>12.0</td>\n",
       "      <td>NaN</td>\n",
       "      <td>False</td>\n",
       "      <td>False</td>\n",
       "      <td>False</td>\n",
       "      <td>False</td>\n",
       "      <td>False</td>\n",
       "    </tr>\n",
       "    <tr>\n",
       "      <th>4</th>\n",
       "      <td>ac 57 0b 24 26 bb fc ac 8a 0f e2 52 f9 87 5b b...</td>\n",
       "      <td>True</td>\n",
       "      <td>2023-03-06 13:51:28.000</td>\n",
       "      <td>2024-12-06 19:34:13.000</td>\n",
       "      <td>False</td>\n",
       "      <td>False</td>\n",
       "      <td>False</td>\n",
       "      <td>0.0</td>\n",
       "      <td>0.0</td>\n",
       "      <td>0.0</td>\n",
       "      <td>...</td>\n",
       "      <td>False</td>\n",
       "      <td>22.0</td>\n",
       "      <td>8.0</td>\n",
       "      <td>9.0</td>\n",
       "      <td>-11.111111</td>\n",
       "      <td>False</td>\n",
       "      <td>True</td>\n",
       "      <td>False</td>\n",
       "      <td>False</td>\n",
       "      <td>False</td>\n",
       "    </tr>\n",
       "  </tbody>\n",
       "</table>\n",
       "<p>5 rows × 29 columns</p>\n",
       "</div>"
      ],
      "text/plain": [
       "                                          company_id  consider_for_revenue  \\\n",
       "0  92 1a 42 e8 e8 8d 1c d2 14 14 bc f0 b9 a5 4b a...                 False   \n",
       "1  29 c2 44 63 66 50 c7 5f e7 2b 41 b6 f4 1d c2 5...                  True   \n",
       "2                                                NaN                  True   \n",
       "3  20 11 49 31 bf 3a 84 05 fb 51 6e 25 16 82 fb c...                  True   \n",
       "4  ac 57 0b 24 26 bb fc ac 8a 0f e2 52 f9 87 5b b...                  True   \n",
       "\n",
       "         first_active_date         last_active_date  \\\n",
       "0  2024-03-01 00:13:50.000  2024-07-01 20:47:48.000   \n",
       "1  2023-09-01 11:26:10.000  2025-01-02 11:25:52.000   \n",
       "2                      NaN                      NaN   \n",
       "3  2024-09-17 20:53:21.000  2024-09-17 20:53:21.000   \n",
       "4  2023-03-06 13:51:28.000  2024-12-06 19:34:13.000   \n",
       "\n",
       "  is_considered_for_recovery is_cosidered_for_subscription  \\\n",
       "0                      False                         False   \n",
       "1                      False                         False   \n",
       "2                      False                         False   \n",
       "3                      False                         False   \n",
       "4                      False                         False   \n",
       "\n",
       "  is_considered_for_wapp_messages_sent  recovery_tax  whatsapp_tax  \\\n",
       "0                                False           0.0           0.0   \n",
       "1                                False           0.0           0.0   \n",
       "2                                False           0.0           0.0   \n",
       "3                                False           0.0           NaN   \n",
       "4                                False           0.0           0.0   \n",
       "\n",
       "   monthly_fee_tax  ...  is_trial_m_2  payments_issued_m-1  \\\n",
       "0              0.0  ...         False                  NaN   \n",
       "1              0.0  ...         False                 78.0   \n",
       "2              0.0  ...         False                  NaN   \n",
       "3              0.0  ...         False                  NaN   \n",
       "4              0.0  ...         False                 22.0   \n",
       "\n",
       "  payments_issued_with_due_date_same_month_m-1 median_of_issued_payments  \\\n",
       "0                                          NaN                       NaN   \n",
       "1                                         43.0                      51.0   \n",
       "2                                          NaN                       NaN   \n",
       "3                                          NaN                      12.0   \n",
       "4                                          8.0                       9.0   \n",
       "\n",
       "   growth_rate  is_growing  is_shrinking  is_churn_risk  is_key_account  \\\n",
       "0          NaN       False         False          False           False   \n",
       "1   -15.686275       False          True          False           False   \n",
       "2          NaN       False         False          False           False   \n",
       "3          NaN       False         False          False           False   \n",
       "4   -11.111111       False          True          False           False   \n",
       "\n",
       "   is_key_onboarding  \n",
       "0              False  \n",
       "1              False  \n",
       "2              False  \n",
       "3              False  \n",
       "4              False  \n",
       "\n",
       "[5 rows x 29 columns]"
      ]
     },
     "execution_count": 282,
     "metadata": {},
     "output_type": "execute_result"
    }
   ],
   "source": [
    "companies_df.head()"
   ]
  },
  {
   "cell_type": "markdown",
   "metadata": {
    "colab_type": "text",
    "id": "pQUnFaY9hAUT"
   },
   "source": [
    "### Descrição dos Dados\n",
    "\n",
    "O conjunto de dados contém informações sobre pagamentos e perfis das empresas clientes da Neofin. O dataset **payments_mle.csv** possui registros detalhados sobre os pagamentos realizados pelos clientes das empresas, incluindo identificadores de empresa (*company_id*), cliente (*customer_id*), método de pagamento, status do pagamento, multas, taxas e meios de comunicação utilizados para envio de cobrança. Algumas variáveis indicam se a cobrança foi feita por e-mail ou WhatsApp.\n",
    "\n",
    "Já o dataset **company_profiling_mle.csv** contém informações sobre o perfil das empresas clientes da Neofin, incluindo datas de primeira e última atividade, indicadores de recuperação, métricas de crescimento, risco de churn e se a empresa é considerada um *key account*.\n",
    "\n",
    "Podemos notar que algumas colunas possuem valores nulos e que existem variáveis categóricas que podem ser relevantes para segmentação. Vamos explorar essas variáveis mais a fundo utilizando o método `info` para entender melhor os tipos de dados e a presença de valores ausentes."
   ]
  },
  {
   "cell_type": "code",
   "execution_count": 283,
   "metadata": {
    "colab": {
     "base_uri": "https://localhost:8080/",
     "height": 857
    },
    "colab_type": "code",
    "id": "4wCoMfKawUAd",
    "outputId": "5a23b86a-25f9-43c5-87b8-361d4712ae55"
   },
   "outputs": [
    {
     "name": "stdout",
     "output_type": "stream",
     "text": [
      "<class 'pandas.core.frame.DataFrame'>\n",
      "RangeIndex: 391258 entries, 0 to 391257\n",
      "Data columns (total 39 columns):\n",
      " #   Column                            Non-Null Count   Dtype  \n",
      "---  ------                            --------------   -----  \n",
      " 0   company_id                        391258 non-null  object \n",
      " 1   company_name                      391258 non-null  object \n",
      " 2   company_document                  391258 non-null  object \n",
      " 3   company_trade_name                391258 non-null  object \n",
      " 4   customer_id                       391258 non-null  object \n",
      " 5   customer_name                     391258 non-null  object \n",
      " 6   customer_trade_name               391258 non-null  object \n",
      " 7   parent_type                       391258 non-null  object \n",
      " 8   parent_id                         391258 non-null  object \n",
      " 9   payment_number                    391258 non-null  object \n",
      " 10  issue_date_dte                    391258 non-null  object \n",
      " 11  original_due_date_dte             391256 non-null  object \n",
      " 12  due_date_dte                      391256 non-null  object \n",
      " 13  paid_at_dte                       153771 non-null  object \n",
      " 14  issue_at_tsmp                     391258 non-null  object \n",
      " 15  original_due_date_tsmp            391256 non-null  object \n",
      " 16  due_date_tsmp                     391256 non-null  object \n",
      " 17  paid_at_tsmp                      153771 non-null  object \n",
      " 18  payment_method                    391258 non-null  object \n",
      " 19  payment_status                    391258 non-null  object \n",
      " 20  paid_amount                       391258 non-null  float64\n",
      " 21  billing_amount                    391258 non-null  float64\n",
      " 22  payment_amount                    391258 non-null  float64\n",
      " 23  installment                       391258 non-null  object \n",
      " 24  payment_provider                  193215 non-null  object \n",
      " 25  discount_before_payment           391258 non-null  float64\n",
      " 26  discount_before_payment_due_date  391258 non-null  int64  \n",
      " 27  description                       391258 non-null  object \n",
      " 28  qrcode_number                     121471 non-null  object \n",
      " 29  os_code                           391258 non-null  object \n",
      " 30  os_identifier                     391258 non-null  object \n",
      " 31  by_mail                           391258 non-null  bool   \n",
      " 32  by_whatsapp                       391258 non-null  bool   \n",
      " 33  fees                              391258 non-null  float64\n",
      " 34  fine                              391258 non-null  float64\n",
      " 35  paid_at                           153771 non-null  object \n",
      " 36  paid_method                       95034 non-null   object \n",
      " 37  manual                            0 non-null       float64\n",
      " 38  billing_number                    391258 non-null  object \n",
      "dtypes: bool(2), float64(7), int64(1), object(29)\n",
      "memory usage: 111.2+ MB\n"
     ]
    }
   ],
   "source": [
    "payments_df.info()"
   ]
  },
  {
   "cell_type": "code",
   "execution_count": 284,
   "metadata": {},
   "outputs": [
    {
     "name": "stdout",
     "output_type": "stream",
     "text": [
      "<class 'pandas.core.frame.DataFrame'>\n",
      "RangeIndex: 698 entries, 0 to 697\n",
      "Data columns (total 29 columns):\n",
      " #   Column                                        Non-Null Count  Dtype  \n",
      "---  ------                                        --------------  -----  \n",
      " 0   company_id                                    503 non-null    object \n",
      " 1   consider_for_revenue                          698 non-null    bool   \n",
      " 2   first_active_date                             323 non-null    object \n",
      " 3   last_active_date                              503 non-null    object \n",
      " 4   is_considered_for_recovery                    601 non-null    object \n",
      " 5   is_cosidered_for_subscription                 601 non-null    object \n",
      " 6   is_considered_for_wapp_messages_sent          601 non-null    object \n",
      " 7   recovery_tax                                  599 non-null    float64\n",
      " 8   whatsapp_tax                                  599 non-null    float64\n",
      " 9   monthly_fee_tax                               600 non-null    float64\n",
      " 10  has_fit_bank                                  698 non-null    bool   \n",
      " 11  is_using_kobana                               698 non-null    bool   \n",
      " 12  bank_account_type                             698 non-null    object \n",
      " 13  company_size                                  600 non-null    object \n",
      " 14  has_no_issues                                 698 non-null    bool   \n",
      " 15  is_dropout                                    698 non-null    bool   \n",
      " 16  is_churn                                      698 non-null    bool   \n",
      " 17  is_preactive                                  698 non-null    bool   \n",
      " 18  is_trial_m_1                                  698 non-null    bool   \n",
      " 19  is_trial_m_2                                  698 non-null    bool   \n",
      " 20  payments_issued_m-1                           348 non-null    float64\n",
      " 21  payments_issued_with_due_date_same_month_m-1  348 non-null    float64\n",
      " 22  median_of_issued_payments                     372 non-null    float64\n",
      " 23  growth_rate                                   307 non-null    float64\n",
      " 24  is_growing                                    698 non-null    bool   \n",
      " 25  is_shrinking                                  698 non-null    bool   \n",
      " 26  is_churn_risk                                 698 non-null    bool   \n",
      " 27  is_key_account                                698 non-null    bool   \n",
      " 28  is_key_onboarding                             698 non-null    bool   \n",
      "dtypes: bool(14), float64(7), object(8)\n",
      "memory usage: 91.5+ KB\n"
     ]
    }
   ],
   "source": [
    "companies_df.info()"
   ]
  },
  {
   "cell_type": "markdown",
   "metadata": {
    "colab_type": "text",
    "id": "e6DI0Medhikw"
   },
   "source": [
    "### Estrutura do Conjunto de Dados\n",
    "\n",
    "#### **payments_mle.csv**\n",
    "O dataset **payments_mle.csv** contém informações detalhadas sobre pagamentos realizados pelos clientes das empresas, sendo composto por **54.495 entradas (linhas)** e **39 colunas**. Algumas colunas apresentam valores ausentes, principalmente em campos relacionados a pagamentos e métodos de pagamento.\n",
    "\n",
    "Abaixo, a descrição das colunas identificadas:\n",
    "\n",
    "1. **company_id** (object) - Identificador único da empresa.  \n",
    "2. **company_name** (object) - Nome da empresa.  \n",
    "3. **company_document** (object) - Documento de identificação da empresa (CNPJ ou similar).  \n",
    "4. **company_trade_name** (object) - Nome fantasia da empresa.  \n",
    "5. **customer_id** (object) - Identificador único do cliente (cliente da empresa).  \n",
    "6. **customer_name** (object) - Nome completo do cliente.  \n",
    "7. **customer_trade_name** (object) - Nome comercial do cliente.  \n",
    "8. **parent_type** (object) - Tipo de relacionamento ou agrupamento (exemplo: *billing*).  \n",
    "9. **parent_id** (object) - Identificador do agrupamento ou responsável (*parent*).  \n",
    "10. **payment_number** (object) - Número identificador do pagamento.  \n",
    "11. **issue_date_dte** (object) - Data de emissão do pagamento.  \n",
    "12. **original_due_date_dte** (object) - Data de vencimento original do pagamento.  \n",
    "13. **due_date_dte** (object) - Data final de vencimento do pagamento.  \n",
    "14. **paid_at_dte** (object) - Data de pagamento do boleto/cartão (se pago).  \n",
    "15. **issue_at_tsmp** (object) - Timestamp da data de emissão.  \n",
    "16. **original_due_date_tsmp** (object) - Timestamp da data de vencimento original.  \n",
    "17. **due_date_tsmp** (object) - Timestamp da data de vencimento final.  \n",
    "18. **paid_at_tsmp** (object) - Timestamp da data de pagamento (se pago).  \n",
    "19. **payment_method** (object) - Método de pagamento utilizado.  \n",
    "20. **payment_status** (object) - Status do pagamento (exemplo: *pago, pendente, cancelado*).  \n",
    "21. **paid_amount** (float) - Valor total pago pelo cliente.  \n",
    "22. **billing_amount** (float) - Valor original da cobrança emitida.  \n",
    "23. **payment_amount** (float) - Valor da transação de pagamento.  \n",
    "24. **installment** (object) - Número de parcelas associadas ao pagamento.  \n",
    "25. **payment_provider** (object) - Provedor responsável pelo pagamento (exemplo: *banco, intermediador de pagamento*).  \n",
    "26. **discount_before_payment** (float) - Valor do desconto concedido antes do pagamento.  \n",
    "27. **discount_before_payment_due_date** (int) - Desconto aplicado antes do vencimento.  \n",
    "28. **description** (object) - Descrição do pagamento.  \n",
    "29. **qrcode_number** (object) - Código QR gerado para pagamento.  \n",
    "30. **os_code** (object) - Código do sistema operacional (possivelmente relacionado à origem do pagamento).  \n",
    "31. **os_identifier** (object) - Identificador complementar ao código do sistema operacional.  \n",
    "32. **by_mail** (bool) - Indicador se a cobrança foi enviada por e-mail.  \n",
    "33. **by_whatsapp** (bool) - Indicador se a cobrança foi enviada por WhatsApp.  \n",
    "34. **fees** (float) - Valor das taxas aplicadas no pagamento.  \n",
    "35. **fine** (float) - Valor da multa aplicada por atraso.  \n",
    "36. **paid_at** (object) - Data e hora em que o pagamento foi efetuado.  \n",
    "37. **paid_method** (object) - Método utilizado para pagamento (se houver).  \n",
    "38. **manual** (float) - Indicador se o pagamento foi processado manualmente (*todos os valores são nulos*).  \n",
    "39. **billing_number** (object) - Número de referência da cobrança.  \n",
    "\n",
    "---\n",
    "\n",
    "#### **company_profiling_mle.csv**\n",
    "O dataset **company_profiling_mle.csv** contém informações sobre o perfil das empresas clientes da Neofin, sendo composto por **698 entradas (linhas)** e **29 colunas**. Algumas colunas apresentam valores ausentes, principalmente nos registros relacionados à atividade da empresa e métricas financeiras.\n",
    "\n",
    "Abaixo, a descrição das colunas identificadas:\n",
    "\n",
    "1. **company_id** (object) - Identificador único da empresa.  \n",
    "2. **consider_for_revenue** (bool) - Indica se a empresa é considerada para apuração de receita.  \n",
    "3. **first_active_date** (object) - Data do primeiro registro de atividade da empresa.  \n",
    "4. **last_active_date** (object) - Data do último registro de atividade da empresa.  \n",
    "5. **is_considered_for_recovery** (object) - Indica se a empresa está no escopo para ações de recuperação de crédito.  \n",
    "6. **is_cosidered_for_subscription** (object) - Indica se a empresa é considerada para serviços de assinatura.  \n",
    "7. **is_considered_for_wapp_messages_sent** (object) - Indica se a empresa faz parte do grupo para envio de mensagens via WhatsApp.  \n",
    "8. **recovery_tax** (float) - Taxa aplicada no processo de recuperação.  \n",
    "9. **whatsapp_tax** (float) - Taxa relacionada ao envio de mensagens pelo WhatsApp.  \n",
    "10. **monthly_fee_tax** (float) - Taxa referente à mensalidade.  \n",
    "11. **has_fit_bank** (bool) - Indica se a empresa utiliza um banco parceiro para transações.  \n",
    "12. **is_using_kobana** (bool) - Indica se a empresa usa a plataforma Kobana.  \n",
    "13. **bank_account_type** (object) - Tipo de conta bancária associada à empresa.  \n",
    "14. **company_size** (object) - Tamanho da empresa (exemplo: *pequena, média, grande*).  \n",
    "15. **has_no_issues** (bool) - Indica se a empresa não possui problemas financeiros.  \n",
    "16. **is_dropout** (bool) - Indica se a empresa cancelou o serviço (*dropout*).  \n",
    "17. **is_churn** (bool) - Indica se a empresa deixou de ser cliente (*churn*).  \n",
    "18. **is_preactive** (bool) - Indica se a empresa está na fase de pré-ativação.  \n",
    "19. **is_trial_m_1** (bool) - Indica se a empresa está em período de teste (trial) no primeiro mês.  \n",
    "20. **is_trial_m_2** (bool) - Indica se a empresa está em período de teste (trial) no segundo mês.  \n",
    "21. **payments_issued_m-1** (float) - Número de pagamentos emitidos no mês anterior.  \n",
    "22. **payments_issued_with_due_date_same_month_m-1** (float) - Pagamentos emitidos com vencimento no mesmo mês no período anterior.  \n",
    "23. **median_of_issued_payments** (float) - Mediana dos valores dos pagamentos emitidos.  \n",
    "24. **growth_rate** (float) - Taxa de crescimento da empresa.  \n",
    "25. **is_growing** (bool) - Indicador se a empresa apresenta tendência de crescimento.  \n",
    "26. **is_shrinking** (bool) - Indicador se a empresa apresenta retração.  \n",
    "27. **is_churn_risk** (bool) - Indica se a empresa está em risco de *churn* (cancelamento).  \n",
    "28. **is_key_account** (bool) - Indica se a empresa é considerada uma conta-chave.  \n",
    "29. **is_key_onboarding** (bool) - Indica se a empresa possui prioridade no processo de *onboarding*.  \n",
    "\n",
    "---\n",
    "\n",
    "### **Considerações**\n",
    "\n",
    "- O dataset **payments_mle.csv** contém **391.258 registros**, enquanto o **company_profiling_mle.csv** possui **698 registros**.  \n",
    "- Algumas colunas possuem valores ausentes, especialmente nas informações de pagamentos efetivamente realizados e nos registros de atividade das empresas.  \n",
    "- Há diversas colunas categóricas que podem ser utilizadas para análise de segmentação.  \n",
    "- O dataset de pagamentos contém registros detalhados de transações, incluindo status, valores, datas e métodos de pagamento.  \n",
    "- O dataset de perfil das empresas contém informações relevantes para modelagem, como taxas de crescimento, risco de *churn*, e uso de serviços financeiros.  \n",
    "\n",
    "Essas descrições iniciais serão fundamentais para aprofundarmos a análise e desenvolvermos um modelo de classificação para segmentação dos clientes de forma inteligente, auxiliando na personalização da esteira de cobrança e na redução da inadimplência.\n",
    "\n",
    "Se precisar de alguma análise adicional, estou à disposição!"
   ]
  },
  {
   "cell_type": "code",
   "execution_count": 285,
   "metadata": {
    "colab": {
     "base_uri": "https://localhost:8080/",
     "height": 756
    },
    "colab_type": "code",
    "id": "0b_TTselwpXi",
    "outputId": "06cc68d8-989c-4fb9-e57d-1262023723f4"
   },
   "outputs": [
    {
     "data": {
      "text/plain": [
       "manual                              100.000000\n",
       "paid_method                          75.710656\n",
       "qrcode_number                        68.953734\n",
       "paid_at                              60.698312\n",
       "paid_at_tsmp                         60.698312\n",
       "paid_at_dte                          60.698312\n",
       "payment_provider                     50.616984\n",
       "due_date_dte                          0.000511\n",
       "due_date_tsmp                         0.000511\n",
       "original_due_date_tsmp                0.000511\n",
       "original_due_date_dte                 0.000511\n",
       "installment                           0.000000\n",
       "os_code                               0.000000\n",
       "os_identifier                         0.000000\n",
       "by_mail                               0.000000\n",
       "by_whatsapp                           0.000000\n",
       "fees                                  0.000000\n",
       "fine                                  0.000000\n",
       "description                           0.000000\n",
       "discount_before_payment_due_date      0.000000\n",
       "discount_before_payment               0.000000\n",
       "company_id                            0.000000\n",
       "payment_status                        0.000000\n",
       "payment_amount                        0.000000\n",
       "billing_amount                        0.000000\n",
       "paid_amount                           0.000000\n",
       "company_name                          0.000000\n",
       "payment_method                        0.000000\n",
       "issue_at_tsmp                         0.000000\n",
       "issue_date_dte                        0.000000\n",
       "payment_number                        0.000000\n",
       "parent_id                             0.000000\n",
       "parent_type                           0.000000\n",
       "customer_trade_name                   0.000000\n",
       "customer_name                         0.000000\n",
       "customer_id                           0.000000\n",
       "company_trade_name                    0.000000\n",
       "company_document                      0.000000\n",
       "billing_number                        0.000000\n",
       "dtype: float64"
      ]
     },
     "execution_count": 285,
     "metadata": {},
     "output_type": "execute_result"
    }
   ],
   "source": [
    "(payments_df.isnull().sum() / payments_df.shape[0] * 100).sort_values(ascending=False)"
   ]
  },
  {
   "cell_type": "code",
   "execution_count": 286,
   "metadata": {},
   "outputs": [
    {
     "data": {
      "text/plain": [
       "growth_rate                                     56.017192\n",
       "first_active_date                               53.724928\n",
       "payments_issued_m-1                             50.143266\n",
       "payments_issued_with_due_date_same_month_m-1    50.143266\n",
       "median_of_issued_payments                       46.704871\n",
       "company_id                                      27.936963\n",
       "last_active_date                                27.936963\n",
       "recovery_tax                                    14.183381\n",
       "whatsapp_tax                                    14.183381\n",
       "company_size                                    14.040115\n",
       "monthly_fee_tax                                 14.040115\n",
       "is_considered_for_wapp_messages_sent            13.896848\n",
       "is_cosidered_for_subscription                   13.896848\n",
       "is_considered_for_recovery                      13.896848\n",
       "is_trial_m_2                                     0.000000\n",
       "is_key_account                                   0.000000\n",
       "is_churn_risk                                    0.000000\n",
       "is_shrinking                                     0.000000\n",
       "is_growing                                       0.000000\n",
       "has_no_issues                                    0.000000\n",
       "is_trial_m_1                                     0.000000\n",
       "is_preactive                                     0.000000\n",
       "is_churn                                         0.000000\n",
       "is_dropout                                       0.000000\n",
       "consider_for_revenue                             0.000000\n",
       "bank_account_type                                0.000000\n",
       "is_using_kobana                                  0.000000\n",
       "has_fit_bank                                     0.000000\n",
       "is_key_onboarding                                0.000000\n",
       "dtype: float64"
      ]
     },
     "execution_count": 286,
     "metadata": {},
     "output_type": "execute_result"
    }
   ],
   "source": [
    "(companies_df.isnull().sum() / companies_df.shape[0] * 100).sort_values(ascending=False)"
   ]
  },
  {
   "cell_type": "markdown",
   "metadata": {
    "colab_type": "text",
    "id": "WWCAK6IWiY9R"
   },
   "source": [
    "Após a execução dos comandos para análise de valores ausentes, foram identificadas características distintas nos dois datasets utilizados no projeto.\n",
    "\n",
    "No dataset **payments_mle.csv** (54.495 registros e 39 colunas), a maioria das colunas apresenta 0% de valores faltantes, o que facilita a utilização dessas variáveis na construção dos modelos. Entretanto, algumas colunas se destacam por apresentarem percentuais elevados de dados ausentes, demandando atenção especial no pré-processamento:\n",
    "\n",
    "- **manual**: 100% dos valores estão ausentes.  \n",
    "- **paid_method**: aproximadamente 78,94% dos registros não possuem informação.  \n",
    "- **qrcode_number**: cerca de 71,24% dos valores estão faltantes.  \n",
    "- **paid_at_dte**, **paid_at_tsmp** e **paid_at**: apresentam em torno de 57,45% de dados ausentes, refletindo a ausência de informação sobre a efetivação do pagamento em muitos casos.\n",
    "\n",
    "Já o dataset **company_profiling_mle.csv** (698 registros e 29 colunas) apresenta uma situação diferente, com diversas colunas essenciais sem valores ausentes. Contudo, algumas variáveis, sobretudo aquelas relacionadas a datas, métricas financeiras e indicadores de performance, possuem percentuais significativos de valores faltantes:\n",
    "\n",
    "- **growth_rate**: aproximadamente 56,0% dos valores ausentes.  \n",
    "- **first_active_date**: cerca de 53,72% dos registros sem informação.  \n",
    "- **payments_issued_m-1** e **payments_issued_with_due_date_same_month_m-1**: cada uma apresenta em torno de 50,14% de valores ausentes.  \n",
    "- **median_of_issued_payments**: aproximadamente 46,70% dos registros estão faltando.  \n",
    "- **company_id** e **last_active_date**: cerca de 27,94% dos valores ausentes.  \n",
    "- **is_considered_for_recovery**, **is_cosidered_for_subscription** e **is_considered_for_wapp_messages_sent**: cada uma possui aproximadamente 13,91% de dados ausentes.  \n",
    "- **recovery_tax** e **whatsapp_tax**: em torno de 14,19% dos registros ausentes.  \n",
    "- **monthly_fee_tax** e **company_size**: cerca de 14,04% dos valores faltantes.\n",
    "\n",
    "Em síntese, enquanto o dataset de pagamentos apresenta robustez em termos de completude na maioria das colunas, algumas variáveis específicas exigirão técnicas de imputação ou descarte, conforme sua relevância. Por sua vez, o dataset de perfil das empresas contém diversas colunas sem valores faltantes, mas também inclui variáveis com percentuais consideráveis de ausências, principalmente nas métricas de desempenho e datas de atividade. Essa análise orientará a definição de estratégias de pré-processamento adequadas, garantindo a integridade dos dados para o desenvolvimento do modelo de classificação e a segmentação personalizada dos clientes."
   ]
  },
  {
   "cell_type": "code",
   "execution_count": 287,
   "metadata": {
    "colab": {
     "base_uri": "https://localhost:8080/",
     "height": 756
    },
    "colab_type": "code",
    "id": "NgIE8r6ExDbv",
    "outputId": "eb5fcd0b-813f-4a3d-e4a1-4e44d888f555"
   },
   "outputs": [
    {
     "data": {
      "text/plain": [
       "manual                                   0\n",
       "by_whatsapp                              2\n",
       "by_mail                                  2\n",
       "payment_provider                         2\n",
       "parent_type                              2\n",
       "paid_method                              3\n",
       "payment_method                           7\n",
       "payment_status                          15\n",
       "installment                             86\n",
       "issue_date_dte                          93\n",
       "paid_at_dte                            142\n",
       "discount_before_payment                206\n",
       "company_document                       379\n",
       "company_id                             383\n",
       "company_name                           393\n",
       "company_trade_name                     405\n",
       "fine                                   450\n",
       "fees                                   686\n",
       "discount_before_payment_due_date       727\n",
       "due_date_dte                          2517\n",
       "original_due_date_dte                 2568\n",
       "original_due_date_tsmp               14722\n",
       "due_date_tsmp                        14879\n",
       "os_identifier                        27146\n",
       "os_code                              47572\n",
       "paid_at_tsmp                         51837\n",
       "paid_at                              51837\n",
       "paid_amount                          63080\n",
       "customer_name                        83848\n",
       "customer_trade_name                  85957\n",
       "customer_id                          94583\n",
       "billing_amount                      103613\n",
       "payment_amount                      103837\n",
       "qrcode_number                       121471\n",
       "issue_at_tsmp                       177068\n",
       "description                         183016\n",
       "parent_id                           365173\n",
       "billing_number                      365173\n",
       "payment_number                      391251\n",
       "dtype: int64"
      ]
     },
     "execution_count": 287,
     "metadata": {},
     "output_type": "execute_result"
    }
   ],
   "source": [
    "payments_df.nunique().sort_values()"
   ]
  },
  {
   "cell_type": "code",
   "execution_count": 288,
   "metadata": {},
   "outputs": [
    {
     "data": {
      "text/plain": [
       "is_considered_for_recovery                        1\n",
       "has_no_issues                                     2\n",
       "is_churn_risk                                     2\n",
       "is_shrinking                                      2\n",
       "is_growing                                        2\n",
       "is_trial_m_2                                      2\n",
       "is_trial_m_1                                      2\n",
       "is_preactive                                      2\n",
       "is_churn                                          2\n",
       "is_dropout                                        2\n",
       "is_key_account                                    2\n",
       "bank_account_type                                 2\n",
       "is_key_onboarding                                 2\n",
       "has_fit_bank                                      2\n",
       "recovery_tax                                      2\n",
       "is_considered_for_wapp_messages_sent              2\n",
       "is_cosidered_for_subscription                     2\n",
       "consider_for_revenue                              2\n",
       "is_using_kobana                                   2\n",
       "company_size                                      5\n",
       "whatsapp_tax                                      7\n",
       "monthly_fee_tax                                  53\n",
       "median_of_issued_payments                       128\n",
       "payments_issued_with_due_date_same_month_m-1    136\n",
       "payments_issued_m-1                             196\n",
       "growth_rate                                     212\n",
       "first_active_date                               312\n",
       "last_active_date                                477\n",
       "company_id                                      483\n",
       "dtype: int64"
      ]
     },
     "execution_count": 288,
     "metadata": {},
     "output_type": "execute_result"
    }
   ],
   "source": [
    "companies_df.nunique().sort_values()"
   ]
  },
  {
   "cell_type": "markdown",
   "metadata": {
    "colab_type": "text",
    "id": "D7aVagV1jXPR"
   },
   "source": [
    "foram observados padrões relevantes quanto à cardinalidade das variáveis em ambos os conjuntos de dados.\n",
    "\n",
    "No dataset **payments_mle.csv**, verificamos que:\n",
    "\n",
    "- Algumas colunas, como **manual**, apresentam **0 valores únicos**, indicando que não há variação (todos os registros possuem o mesmo valor ou estão completamente ausentes).\n",
    "- Outras colunas, como **company_id**, **customer_id**, **payment_number** e **billing_number**, possuem uma quantidade de valores únicos muito alta, praticamente correspondendo ao total de registros. Isso sugere que essas colunas funcionam como identificadores únicos, com um valor distinto para cada linha, o que pode agregar pouca informação útil para análises agregadas ou modelagem preditiva.\n",
    "\n",
    "De forma similar, no dataset **company_profiling_mle.csv**, a análise revelou que:\n",
    "\n",
    "- Colunas que representam características categóricas ou booleanas (como **consider_for_revenue**, **has_fit_bank**, **is_using_kobana**, entre outras) apresentam poucos valores únicos, o que é esperado e pode ser muito útil para segmentação.\n",
    "- No entanto, a coluna **company_id** apresenta uma quantidade de valores únicos elevada, funcionando como um identificador único para cada empresa, o que pode não contribuir significativamente para os modelos preditivos.\n",
    "\n",
    "Em resumo, a presença de colunas com uma quantidade muito alta de valores únicos indica que elas têm, na maioria das vezes, um valor exclusivo por linha, servindo principalmente como identificadores. Tais colunas tendem a acrescentar pouca informação analítica para tarefas de modelagem e, portanto, podem ser descartadas ou tratadas de forma especial nas etapas futuras do pré-processamento. \n",
    "\n",
    "Vamos agora utilizar o método `describe` para obter mais informações sobre as variáveis numéricas e aprofundar nossa análise."
   ]
  },
  {
   "cell_type": "code",
   "execution_count": 289,
   "metadata": {
    "colab": {
     "base_uri": "https://localhost:8080/",
     "height": 304
    },
    "colab_type": "code",
    "id": "tvCczm7YD4OU",
    "outputId": "935857c0-4fcd-4d7f-f3ac-a0fa9be6b3f0"
   },
   "outputs": [
    {
     "data": {
      "text/html": [
       "<div>\n",
       "<style scoped>\n",
       "    .dataframe tbody tr th:only-of-type {\n",
       "        vertical-align: middle;\n",
       "    }\n",
       "\n",
       "    .dataframe tbody tr th {\n",
       "        vertical-align: top;\n",
       "    }\n",
       "\n",
       "    .dataframe thead th {\n",
       "        text-align: right;\n",
       "    }\n",
       "</style>\n",
       "<table border=\"1\" class=\"dataframe\">\n",
       "  <thead>\n",
       "    <tr style=\"text-align: right;\">\n",
       "      <th></th>\n",
       "      <th>paid_amount</th>\n",
       "      <th>billing_amount</th>\n",
       "      <th>payment_amount</th>\n",
       "      <th>discount_before_payment</th>\n",
       "      <th>discount_before_payment_due_date</th>\n",
       "      <th>fees</th>\n",
       "      <th>fine</th>\n",
       "      <th>manual</th>\n",
       "    </tr>\n",
       "  </thead>\n",
       "  <tbody>\n",
       "    <tr>\n",
       "      <th>count</th>\n",
       "      <td>3.912580e+05</td>\n",
       "      <td>3.912580e+05</td>\n",
       "      <td>3.912580e+05</td>\n",
       "      <td>391258.000000</td>\n",
       "      <td>3.912580e+05</td>\n",
       "      <td>391258.000000</td>\n",
       "      <td>391258.00000</td>\n",
       "      <td>0.0</td>\n",
       "    </tr>\n",
       "    <tr>\n",
       "      <th>mean</th>\n",
       "      <td>9.828018e+02</td>\n",
       "      <td>3.813064e+03</td>\n",
       "      <td>3.622678e+03</td>\n",
       "      <td>0.136948</td>\n",
       "      <td>7.816910e+07</td>\n",
       "      <td>1.177784</td>\n",
       "      <td>1.97584</td>\n",
       "      <td>NaN</td>\n",
       "    </tr>\n",
       "    <tr>\n",
       "      <th>std</th>\n",
       "      <td>2.290941e+04</td>\n",
       "      <td>4.775503e+04</td>\n",
       "      <td>4.772455e+04</td>\n",
       "      <td>4.737537</td>\n",
       "      <td>3.597398e+08</td>\n",
       "      <td>2.030424</td>\n",
       "      <td>139.22536</td>\n",
       "      <td>NaN</td>\n",
       "    </tr>\n",
       "    <tr>\n",
       "      <th>min</th>\n",
       "      <td>0.000000e+00</td>\n",
       "      <td>0.000000e+00</td>\n",
       "      <td>0.000000e+00</td>\n",
       "      <td>0.000000</td>\n",
       "      <td>0.000000e+00</td>\n",
       "      <td>0.000000</td>\n",
       "      <td>0.00000</td>\n",
       "      <td>NaN</td>\n",
       "    </tr>\n",
       "    <tr>\n",
       "      <th>25%</th>\n",
       "      <td>0.000000e+00</td>\n",
       "      <td>2.990000e+02</td>\n",
       "      <td>2.569300e+02</td>\n",
       "      <td>0.000000</td>\n",
       "      <td>0.000000e+00</td>\n",
       "      <td>0.000000</td>\n",
       "      <td>0.00000</td>\n",
       "      <td>NaN</td>\n",
       "    </tr>\n",
       "    <tr>\n",
       "      <th>50%</th>\n",
       "      <td>0.000000e+00</td>\n",
       "      <td>6.817100e+02</td>\n",
       "      <td>5.716000e+02</td>\n",
       "      <td>0.000000</td>\n",
       "      <td>0.000000e+00</td>\n",
       "      <td>1.000000</td>\n",
       "      <td>2.00000</td>\n",
       "      <td>NaN</td>\n",
       "    </tr>\n",
       "    <tr>\n",
       "      <th>75%</th>\n",
       "      <td>3.651000e+02</td>\n",
       "      <td>1.780000e+03</td>\n",
       "      <td>1.526250e+03</td>\n",
       "      <td>0.000000</td>\n",
       "      <td>0.000000e+00</td>\n",
       "      <td>1.000000</td>\n",
       "      <td>2.00000</td>\n",
       "      <td>NaN</td>\n",
       "    </tr>\n",
       "    <tr>\n",
       "      <th>max</th>\n",
       "      <td>7.500000e+06</td>\n",
       "      <td>1.000000e+07</td>\n",
       "      <td>1.000000e+07</td>\n",
       "      <td>1190.000000</td>\n",
       "      <td>1.792973e+09</td>\n",
       "      <td>30.000000</td>\n",
       "      <td>86608.26000</td>\n",
       "      <td>NaN</td>\n",
       "    </tr>\n",
       "  </tbody>\n",
       "</table>\n",
       "</div>"
      ],
      "text/plain": [
       "        paid_amount  billing_amount  payment_amount  discount_before_payment  \\\n",
       "count  3.912580e+05    3.912580e+05    3.912580e+05            391258.000000   \n",
       "mean   9.828018e+02    3.813064e+03    3.622678e+03                 0.136948   \n",
       "std    2.290941e+04    4.775503e+04    4.772455e+04                 4.737537   \n",
       "min    0.000000e+00    0.000000e+00    0.000000e+00                 0.000000   \n",
       "25%    0.000000e+00    2.990000e+02    2.569300e+02                 0.000000   \n",
       "50%    0.000000e+00    6.817100e+02    5.716000e+02                 0.000000   \n",
       "75%    3.651000e+02    1.780000e+03    1.526250e+03                 0.000000   \n",
       "max    7.500000e+06    1.000000e+07    1.000000e+07              1190.000000   \n",
       "\n",
       "       discount_before_payment_due_date           fees          fine  manual  \n",
       "count                      3.912580e+05  391258.000000  391258.00000     0.0  \n",
       "mean                       7.816910e+07       1.177784       1.97584     NaN  \n",
       "std                        3.597398e+08       2.030424     139.22536     NaN  \n",
       "min                        0.000000e+00       0.000000       0.00000     NaN  \n",
       "25%                        0.000000e+00       0.000000       0.00000     NaN  \n",
       "50%                        0.000000e+00       1.000000       2.00000     NaN  \n",
       "75%                        0.000000e+00       1.000000       2.00000     NaN  \n",
       "max                        1.792973e+09      30.000000   86608.26000     NaN  "
      ]
     },
     "execution_count": 289,
     "metadata": {},
     "output_type": "execute_result"
    }
   ],
   "source": [
    "payments_df.describe()"
   ]
  },
  {
   "cell_type": "code",
   "execution_count": 290,
   "metadata": {},
   "outputs": [
    {
     "name": "stderr",
     "output_type": "stream",
     "text": [
      "/home/gerson/.cache/pypoetry/virtualenvs/neofin-machine-learning-engineer-challenge-wGnavEa_-py3.10/lib/python3.10/site-packages/pandas/core/nanops.py:1016: RuntimeWarning: invalid value encountered in subtract\n",
      "  sqr = _ensure_numeric((avg - values) ** 2)\n"
     ]
    },
    {
     "data": {
      "text/html": [
       "<div>\n",
       "<style scoped>\n",
       "    .dataframe tbody tr th:only-of-type {\n",
       "        vertical-align: middle;\n",
       "    }\n",
       "\n",
       "    .dataframe tbody tr th {\n",
       "        vertical-align: top;\n",
       "    }\n",
       "\n",
       "    .dataframe thead th {\n",
       "        text-align: right;\n",
       "    }\n",
       "</style>\n",
       "<table border=\"1\" class=\"dataframe\">\n",
       "  <thead>\n",
       "    <tr style=\"text-align: right;\">\n",
       "      <th></th>\n",
       "      <th>recovery_tax</th>\n",
       "      <th>whatsapp_tax</th>\n",
       "      <th>monthly_fee_tax</th>\n",
       "      <th>payments_issued_m-1</th>\n",
       "      <th>payments_issued_with_due_date_same_month_m-1</th>\n",
       "      <th>median_of_issued_payments</th>\n",
       "      <th>growth_rate</th>\n",
       "    </tr>\n",
       "  </thead>\n",
       "  <tbody>\n",
       "    <tr>\n",
       "      <th>count</th>\n",
       "      <td>599.000000</td>\n",
       "      <td>599.000000</td>\n",
       "      <td>600.000000</td>\n",
       "      <td>348.000000</td>\n",
       "      <td>348.000000</td>\n",
       "      <td>372.000000</td>\n",
       "      <td>307.000000</td>\n",
       "    </tr>\n",
       "    <tr>\n",
       "      <th>mean</th>\n",
       "      <td>0.001369</td>\n",
       "      <td>0.063773</td>\n",
       "      <td>43.637217</td>\n",
       "      <td>370.436782</td>\n",
       "      <td>118.192529</td>\n",
       "      <td>104.075269</td>\n",
       "      <td>inf</td>\n",
       "    </tr>\n",
       "    <tr>\n",
       "      <th>std</th>\n",
       "      <td>0.005054</td>\n",
       "      <td>0.129018</td>\n",
       "      <td>126.141455</td>\n",
       "      <td>1305.401032</td>\n",
       "      <td>443.347575</td>\n",
       "      <td>495.742069</td>\n",
       "      <td>NaN</td>\n",
       "    </tr>\n",
       "    <tr>\n",
       "      <th>min</th>\n",
       "      <td>0.000000</td>\n",
       "      <td>0.000000</td>\n",
       "      <td>0.000000</td>\n",
       "      <td>1.000000</td>\n",
       "      <td>0.000000</td>\n",
       "      <td>0.000000</td>\n",
       "      <td>-100.000000</td>\n",
       "    </tr>\n",
       "    <tr>\n",
       "      <th>25%</th>\n",
       "      <td>0.000000</td>\n",
       "      <td>0.000000</td>\n",
       "      <td>0.000000</td>\n",
       "      <td>18.750000</td>\n",
       "      <td>3.000000</td>\n",
       "      <td>2.000000</td>\n",
       "      <td>-13.068182</td>\n",
       "    </tr>\n",
       "    <tr>\n",
       "      <th>50%</th>\n",
       "      <td>0.000000</td>\n",
       "      <td>0.000000</td>\n",
       "      <td>0.000000</td>\n",
       "      <td>74.000000</td>\n",
       "      <td>18.500000</td>\n",
       "      <td>13.000000</td>\n",
       "      <td>11.864407</td>\n",
       "    </tr>\n",
       "    <tr>\n",
       "      <th>75%</th>\n",
       "      <td>0.000000</td>\n",
       "      <td>0.000000</td>\n",
       "      <td>11.250000</td>\n",
       "      <td>210.750000</td>\n",
       "      <td>91.250000</td>\n",
       "      <td>60.250000</td>\n",
       "      <td>92.611778</td>\n",
       "    </tr>\n",
       "    <tr>\n",
       "      <th>max</th>\n",
       "      <td>0.020000</td>\n",
       "      <td>0.350000</td>\n",
       "      <td>1500.000000</td>\n",
       "      <td>14548.000000</td>\n",
       "      <td>7217.000000</td>\n",
       "      <td>7258.000000</td>\n",
       "      <td>inf</td>\n",
       "    </tr>\n",
       "  </tbody>\n",
       "</table>\n",
       "</div>"
      ],
      "text/plain": [
       "       recovery_tax  whatsapp_tax  monthly_fee_tax  payments_issued_m-1  \\\n",
       "count    599.000000    599.000000       600.000000           348.000000   \n",
       "mean       0.001369      0.063773        43.637217           370.436782   \n",
       "std        0.005054      0.129018       126.141455          1305.401032   \n",
       "min        0.000000      0.000000         0.000000             1.000000   \n",
       "25%        0.000000      0.000000         0.000000            18.750000   \n",
       "50%        0.000000      0.000000         0.000000            74.000000   \n",
       "75%        0.000000      0.000000        11.250000           210.750000   \n",
       "max        0.020000      0.350000      1500.000000         14548.000000   \n",
       "\n",
       "       payments_issued_with_due_date_same_month_m-1  \\\n",
       "count                                    348.000000   \n",
       "mean                                     118.192529   \n",
       "std                                      443.347575   \n",
       "min                                        0.000000   \n",
       "25%                                        3.000000   \n",
       "50%                                       18.500000   \n",
       "75%                                       91.250000   \n",
       "max                                     7217.000000   \n",
       "\n",
       "       median_of_issued_payments  growth_rate  \n",
       "count                 372.000000   307.000000  \n",
       "mean                  104.075269          inf  \n",
       "std                   495.742069          NaN  \n",
       "min                     0.000000  -100.000000  \n",
       "25%                     2.000000   -13.068182  \n",
       "50%                    13.000000    11.864407  \n",
       "75%                    60.250000    92.611778  \n",
       "max                  7258.000000          inf  "
      ]
     },
     "execution_count": 290,
     "metadata": {},
     "output_type": "execute_result"
    }
   ],
   "source": [
    "companies_df.describe()"
   ]
  },
  {
   "cell_type": "markdown",
   "metadata": {},
   "source": [
    "Os resultados para as variáveis numéricas de ambos os datasets foram:\n",
    "\n",
    "**No dataset payments_mle.csv**, os dados numéricos revelam que:\n",
    "- **Valores de transação:**  \n",
    "  - O valor efetivamente pago (*paid_amount*) apresenta uma média que evidencia uma variabilidade considerável, com valores mínimos e máximos que sugerem a existência de transações de diferentes escalas.  \n",
    "  - De forma similar, os valores originais da cobrança (*billing_amount*) e os montantes processados (*payment_amount*) demonstram uma dispersão ampla, indicando que, enquanto a maioria dos pagamentos ocorre em faixas mais baixas, há transações de alto valor.\n",
    "- **Taxas e descontos:**  \n",
    "  - As colunas referentes a taxas (*fees* e *fine*) têm médias relativamente baixas, sugerindo que, na maioria dos casos, os encargos são modestos, embora os valores máximos apontem para situações excepcionais.  \n",
    "  - Os descontos aplicados antes do pagamento (*discount_before_payment*) e antes da data de vencimento (*discount_before_payment_due_date*) também apresentam médias baixas, mas com dispersões que evidenciam a aplicação de descontos mais significativos em casos pontuais.\n",
    "\n",
    "**No dataset company_profiling_mle.csv**, a análise descritiva das variáveis numéricas destaca:\n",
    "- **Indicadores financeiros e operacionais:**  \n",
    "  - As taxas associadas à recuperação (*recovery_tax*) e ao envio de mensagens via WhatsApp (*whatsapp_tax*), bem como a taxa mensal (*monthly_fee_tax*), têm médias baixas, mas com variações que podem refletir diferentes estratégias comerciais ou níveis de serviço entre as empresas.  \n",
    "  - Os indicadores referentes aos pagamentos emitidos no mês anterior (*payments_issued_m-1*) e os pagamentos com vencimento no mesmo mês (*payments_issued_with_due_date_same_month_m-1*) evidenciam uma dispersão significativa. Essa variabilidade indica que, embora muitas empresas realizem um número moderado de transações, algumas apresentam volumes de pagamentos muito elevados.  \n",
    "  - A mediana dos pagamentos emitidos (*median_of_issued_payments*) corrobora essa heterogeneidade entre os registros.\n",
    "- **Taxa de crescimento:**  \n",
    "  - A variável *growth_rate* mostra uma média que, juntamente com sua ampla dispersão, sugere cenários diversos de desempenho entre as empresas, apontando tanto para oportunidades quanto para desafios no crescimento.\n",
    "\n",
    "Em síntese, os resultados do `describe()` demonstram que os dados dos pagamentos e dos perfis das empresas apresentam uma variabilidade expressiva em suas transações e indicadores financeiros. Enquanto os pagamentos refletem uma diversidade de valores transacionados e a aplicação de taxas e descontos de forma pontual, os indicadores das empresas revelam diferenças marcantes no volume de transações e no desempenho de crescimento. Esses insights serão fundamentais para orientar as etapas de modelagem e segmentação, contribuindo para uma abordagem mais personalizada na gestão e na redução da inadimplência."
   ]
  },
  {
   "cell_type": "markdown",
   "metadata": {},
   "source": [
    "## **Análises e Feature Engineering**\n",
    "\n",
    "Vamos agora tratar os dados e plotar alguns gráficos para analisar os datasets.\n",
    "\n",
    "### **Tratamento de Valores Ausentes**\n",
    "#### **Dataset de Pagamentos (`payments_mle.csv`)**\n",
    "- **Convertidas colunas de data** (`paid_at_dte`, `due_date_dte`) para formato `datetime`."
   ]
  },
  {
   "cell_type": "code",
   "execution_count": 291,
   "metadata": {},
   "outputs": [],
   "source": [
    "# Converter colunas de data para o formato datetime (usando 'due_date_dte' e 'paid_at_dte' como exemplo)\n",
    "payments_df[\"paid_at_dte\"] = pd.to_datetime(payments_df[\"paid_at_dte\"], errors=\"coerce\")\n",
    "payments_df[\"due_date_dte\"] = pd.to_datetime(payments_df[\"due_date_dte\"], errors=\"coerce\")"
   ]
  },
  {
   "cell_type": "markdown",
   "metadata": {},
   "source": [
    "- **Valores ausentes em `payment_provider` e `paid_method` preenchidos com `\"Desconhecido\"`**."
   ]
  },
  {
   "cell_type": "code",
   "execution_count": 292,
   "metadata": {},
   "outputs": [
    {
     "name": "stderr",
     "output_type": "stream",
     "text": [
      "/tmp/ipykernel_49835/751546612.py:1: FutureWarning: A value is trying to be set on a copy of a DataFrame or Series through chained assignment using an inplace method.\n",
      "The behavior will change in pandas 3.0. This inplace method will never work because the intermediate object on which we are setting values always behaves as a copy.\n",
      "\n",
      "For example, when doing 'df[col].method(value, inplace=True)', try using 'df.method({col: value}, inplace=True)' or df[col] = df[col].method(value) instead, to perform the operation inplace on the original object.\n",
      "\n",
      "\n",
      "  payments_df[\"payment_provider\"].fillna(\"Desconhecido\", inplace=True)\n",
      "/tmp/ipykernel_49835/751546612.py:2: FutureWarning: A value is trying to be set on a copy of a DataFrame or Series through chained assignment using an inplace method.\n",
      "The behavior will change in pandas 3.0. This inplace method will never work because the intermediate object on which we are setting values always behaves as a copy.\n",
      "\n",
      "For example, when doing 'df[col].method(value, inplace=True)', try using 'df.method({col: value}, inplace=True)' or df[col] = df[col].method(value) instead, to perform the operation inplace on the original object.\n",
      "\n",
      "\n",
      "  payments_df[\"paid_method\"].fillna(\"Desconhecido\", inplace=True)\n",
      "/tmp/ipykernel_49835/751546612.py:3: FutureWarning: A value is trying to be set on a copy of a DataFrame or Series through chained assignment using an inplace method.\n",
      "The behavior will change in pandas 3.0. This inplace method will never work because the intermediate object on which we are setting values always behaves as a copy.\n",
      "\n",
      "For example, when doing 'df[col].method(value, inplace=True)', try using 'df.method({col: value}, inplace=True)' or df[col] = df[col].method(value) instead, to perform the operation inplace on the original object.\n",
      "\n",
      "\n",
      "  payments_df[\"parent_type\"].fillna(\"Desconhecido\", inplace=True)\n",
      "/tmp/ipykernel_49835/751546612.py:4: FutureWarning: A value is trying to be set on a copy of a DataFrame or Series through chained assignment using an inplace method.\n",
      "The behavior will change in pandas 3.0. This inplace method will never work because the intermediate object on which we are setting values always behaves as a copy.\n",
      "\n",
      "For example, when doing 'df[col].method(value, inplace=True)', try using 'df.method({col: value}, inplace=True)' or df[col] = df[col].method(value) instead, to perform the operation inplace on the original object.\n",
      "\n",
      "\n",
      "  payments_df[\"payment_method\"].fillna(\"Desconhecido\", inplace=True)\n",
      "/tmp/ipykernel_49835/751546612.py:5: FutureWarning: A value is trying to be set on a copy of a DataFrame or Series through chained assignment using an inplace method.\n",
      "The behavior will change in pandas 3.0. This inplace method will never work because the intermediate object on which we are setting values always behaves as a copy.\n",
      "\n",
      "For example, when doing 'df[col].method(value, inplace=True)', try using 'df.method({col: value}, inplace=True)' or df[col] = df[col].method(value) instead, to perform the operation inplace on the original object.\n",
      "\n",
      "\n",
      "  payments_df[\"payment_status\"].fillna(\"Desconhecido\", inplace=True)\n"
     ]
    }
   ],
   "source": [
    "payments_df[\"payment_provider\"].fillna(\"Desconhecido\", inplace=True)\n",
    "payments_df[\"paid_method\"].fillna(\"Desconhecido\", inplace=True)\n",
    "payments_df[\"parent_type\"].fillna(\"Desconhecido\", inplace=True)\n",
    "payments_df[\"payment_method\"].fillna(\"Desconhecido\", inplace=True)\n",
    "payments_df[\"payment_status\"].fillna(\"Desconhecido\", inplace=True)"
   ]
  },
  {
   "cell_type": "markdown",
   "metadata": {},
   "source": [
    "- **Coluna `manual` removida**, pois continha apenas valores nulos."
   ]
  },
  {
   "cell_type": "code",
   "execution_count": 293,
   "metadata": {},
   "outputs": [],
   "source": [
    "# manual: Remover, pois contém apenas valores nulos.\n",
    "payments_df.drop(columns=[\"manual\"], inplace=True)  # Remover coluna irrelevante"
   ]
  },
  {
   "cell_type": "markdown",
   "metadata": {},
   "source": [
    "#### **Dataset de Perfil das Empresas (`company_profiling_mle.csv`)**\n",
    "- **Registros sem `company_id` foram removidos**."
   ]
  },
  {
   "cell_type": "code",
   "execution_count": 294,
   "metadata": {},
   "outputs": [],
   "source": [
    "# company_id: Remover registros sem esse campo, pois ele é essencial.\n",
    "companies_df.dropna(\n",
    "    subset=[\"company_id\"], inplace=True\n",
    ")  # Remover registros sem ID da empresa"
   ]
  },
  {
   "cell_type": "markdown",
   "metadata": {},
   "source": [
    "- **Convertidas colunas de data** (`first_active_date`, `last_active_date`) para `datetime`."
   ]
  },
  {
   "cell_type": "code",
   "execution_count": 295,
   "metadata": {},
   "outputs": [],
   "source": [
    "# first_active_date e last_active_date: Converter para datetime e analisar a distribuição dos dados.\n",
    "companies_df[\"first_active_date\"] = pd.to_datetime(\n",
    "    companies_df[\"first_active_date\"], errors=\"coerce\"\n",
    ")\n",
    "companies_df[\"last_active_date\"] = pd.to_datetime(\n",
    "    companies_df[\"last_active_date\"], errors=\"coerce\"\n",
    ")"
   ]
  },
  {
   "cell_type": "markdown",
   "metadata": {},
   "source": [
    "- **Valores ausentes de `growth_rate` substituídos por `0`**, indicando empresas sem crescimento registrado."
   ]
  },
  {
   "cell_type": "code",
   "execution_count": 296,
   "metadata": {},
   "outputs": [
    {
     "name": "stderr",
     "output_type": "stream",
     "text": [
      "/tmp/ipykernel_49835/758584267.py:2: FutureWarning: A value is trying to be set on a copy of a DataFrame or Series through chained assignment using an inplace method.\n",
      "The behavior will change in pandas 3.0. This inplace method will never work because the intermediate object on which we are setting values always behaves as a copy.\n",
      "\n",
      "For example, when doing 'df[col].method(value, inplace=True)', try using 'df.method({col: value}, inplace=True)' or df[col] = df[col].method(value) instead, to perform the operation inplace on the original object.\n",
      "\n",
      "\n",
      "  companies_df[\"growth_rate\"].fillna(0, inplace=True)  # Empresas sem taxa de crescimento registrada\n"
     ]
    }
   ],
   "source": [
    "# growth_rate: Substituir valores ausentes por zero, pois indica empresas sem crescimento registrado.\n",
    "companies_df[\"growth_rate\"].fillna(0, inplace=True)  # Empresas sem taxa de crescimento registrada"
   ]
  },
  {
   "cell_type": "code",
   "execution_count": 297,
   "metadata": {},
   "outputs": [],
   "source": [
    "# Convertendo colunas booleanas para True/False\n",
    "bool_columns = [\n",
    "    \"is_considered_for_recovery\",\n",
    "    \"is_cosidered_for_subscription\",\n",
    "    \"is_considered_for_wapp_messages_sent\",\n",
    "    \"is_growing\",\n",
    "    \"is_shrinking\",\n",
    "    \"is_churn_risk\",\n",
    "    \"is_key_account\",\n",
    "    \"is_key_onboarding\",\n",
    "]\n",
    "\n",
    "for col in bool_columns:\n",
    "    companies_df[col] = companies_df[col].astype(bool)"
   ]
  },
  {
   "cell_type": "markdown",
   "metadata": {},
   "source": [
    "### **Feature Engineering**\n",
    "\n",
    "Uma vez que os dados ja tenham sido tratados, vamos criar algumas features que podem fazer sentido para o modelo.\n",
    "\n",
    "#### **Novas Features Criadas**"
   ]
  },
  {
   "cell_type": "markdown",
   "metadata": {},
   "source": [
    "- **`is_paid`**: Para pagamentos realizados ou não (1 para pagos, 0 para não pagos).\n",
    "  \n",
    "  Se `paid_at_dte` ausente, significa que o pagamento não foi realizado."
   ]
  },
  {
   "cell_type": "code",
   "execution_count": 298,
   "metadata": {},
   "outputs": [
    {
     "data": {
      "text/plain": [
       "0         1\n",
       "1         1\n",
       "2         1\n",
       "3         0\n",
       "4         0\n",
       "         ..\n",
       "391253    1\n",
       "391254    1\n",
       "391255    0\n",
       "391256    0\n",
       "391257    0\n",
       "Name: is_paid, Length: 391258, dtype: int64"
      ]
     },
     "execution_count": 298,
     "metadata": {},
     "output_type": "execute_result"
    }
   ],
   "source": [
    "payments_df[\"is_paid\"] = (\n",
    "    payments_df[\"paid_at_dte\"].notnull().astype(int)\n",
    ")  # 1 se pago, 0 se não pago\n",
    "payments_df[\"is_paid\"]"
   ]
  },
  {
   "cell_type": "markdown",
   "metadata": {},
   "source": [
    "- **`delay_days`** → Dias de atraso no pagamento.\n",
    "\n",
    "  Número de dias entre o vencimento (due_date_dte) e a data do pagamento (paid_at_dte). Se não foi pago (NaN em paid_at_dte), assumimos que o pagamento está em aberto. Percentual do Valor Pago (payment_ratio):\n",
    "\n",
    "  O cálculo de 'delay_days' permite avaliar a pontualidade dos pagamentos e identificar clientes com histórico de atrasos."
   ]
  },
  {
   "cell_type": "code",
   "execution_count": 299,
   "metadata": {},
   "outputs": [
    {
     "data": {
      "text/plain": [
       "0         -5.0\n",
       "1         -3.0\n",
       "2         -3.0\n",
       "3          NaN\n",
       "4          NaN\n",
       "          ... \n",
       "391253    58.0\n",
       "391254     0.0\n",
       "391255     NaN\n",
       "391256     NaN\n",
       "391257     NaN\n",
       "Name: delay_days, Length: 391258, dtype: float64"
      ]
     },
     "execution_count": 299,
     "metadata": {},
     "output_type": "execute_result"
    }
   ],
   "source": [
    "payments_df[\"delay_days\"] = (payments_df[\"paid_at_dte\"] - payments_df[\"due_date_dte\"]).dt.days\n",
    "payments_df[\"delay_days\"]"
   ]
  },
  {
   "cell_type": "markdown",
   "metadata": {},
   "source": [
    "- **`payment_ratio`** → Percentual do valor pago em relação ao faturado.\n",
    "\n",
    "  Razão entre paid_amount e billing_amount, indicando se o cliente pagou o valor total ou parcial. Número de Pagamentos por Cliente (customer_payment_count):"
   ]
  },
  {
   "cell_type": "code",
   "execution_count": 300,
   "metadata": {},
   "outputs": [
    {
     "data": {
      "text/plain": [
       "0         1.0\n",
       "1         1.0\n",
       "2         1.0\n",
       "3         0.0\n",
       "4         0.0\n",
       "         ... \n",
       "391253    1.0\n",
       "391254    1.0\n",
       "391255    0.0\n",
       "391256    0.0\n",
       "391257    0.0\n",
       "Name: payment_ratio, Length: 391258, dtype: float64"
      ]
     },
     "execution_count": 300,
     "metadata": {},
     "output_type": "execute_result"
    }
   ],
   "source": [
    "payments_df[\"payment_ratio\"] = payments_df[\"paid_amount\"] / payments_df[\"billing_amount\"]\n",
    "payments_df[\"payment_ratio\"]"
   ]
  },
  {
   "cell_type": "markdown",
   "metadata": {},
   "source": [
    "- **`customer_payment_count`** → Quantidade de pagamentos realizados por cada cliente.\n",
    "\n",
    "  Quantidade de pagamentos associados a cada customer_id, que representa a frequência de pagamentos por 'customer_id' fornece um indicador importante do comportamento dos pagadores, permitindo diferenciar clientes regulares daqueles que efetuam pagamentos esporadicamente."
   ]
  },
  {
   "cell_type": "code",
   "execution_count": 301,
   "metadata": {},
   "outputs": [
    {
     "data": {
      "text/html": [
       "<div>\n",
       "<style scoped>\n",
       "    .dataframe tbody tr th:only-of-type {\n",
       "        vertical-align: middle;\n",
       "    }\n",
       "\n",
       "    .dataframe tbody tr th {\n",
       "        vertical-align: top;\n",
       "    }\n",
       "\n",
       "    .dataframe thead th {\n",
       "        text-align: right;\n",
       "    }\n",
       "</style>\n",
       "<table border=\"1\" class=\"dataframe\">\n",
       "  <thead>\n",
       "    <tr style=\"text-align: right;\">\n",
       "      <th></th>\n",
       "      <th>customer_id</th>\n",
       "      <th>customer_payment_count</th>\n",
       "    </tr>\n",
       "  </thead>\n",
       "  <tbody>\n",
       "    <tr>\n",
       "      <th>0</th>\n",
       "      <td>00 00 53 c3 da b2 51 71 0a 93 d0 48 d5 fd 16 9...</td>\n",
       "      <td>2</td>\n",
       "    </tr>\n",
       "    <tr>\n",
       "      <th>1</th>\n",
       "      <td>00 01 08 12 ec be c7 97 99 d2 59 e7 bc 6c e5 7...</td>\n",
       "      <td>2</td>\n",
       "    </tr>\n",
       "    <tr>\n",
       "      <th>2</th>\n",
       "      <td>00 01 6d e8 1b d2 e6 70 0a 37 7c 8e 61 53 3b 2...</td>\n",
       "      <td>5</td>\n",
       "    </tr>\n",
       "    <tr>\n",
       "      <th>3</th>\n",
       "      <td>00 02 03 67 14 19 c0 9b e4 c2 16 47 03 2c 63 4...</td>\n",
       "      <td>2</td>\n",
       "    </tr>\n",
       "    <tr>\n",
       "      <th>4</th>\n",
       "      <td>00 02 2c de f5 c8 ab 25 70 c3 85 b0 7d a5 de 7...</td>\n",
       "      <td>6</td>\n",
       "    </tr>\n",
       "    <tr>\n",
       "      <th>...</th>\n",
       "      <td>...</td>\n",
       "      <td>...</td>\n",
       "    </tr>\n",
       "    <tr>\n",
       "      <th>94578</th>\n",
       "      <td>ff fd 3a 95 ca 6c b5 dd c6 ea 93 b6 9d 2d 17 b...</td>\n",
       "      <td>2</td>\n",
       "    </tr>\n",
       "    <tr>\n",
       "      <th>94579</th>\n",
       "      <td>ff fd 4d 8e 34 39 72 64 af 61 b4 2e d9 21 c1 a...</td>\n",
       "      <td>1</td>\n",
       "    </tr>\n",
       "    <tr>\n",
       "      <th>94580</th>\n",
       "      <td>ff fe 80 d9 8b 93 8a 9f 68 4f 17 18 65 0d dc 8...</td>\n",
       "      <td>3</td>\n",
       "    </tr>\n",
       "    <tr>\n",
       "      <th>94581</th>\n",
       "      <td>ff ff 21 12 33 44 32 be f3 4e 33 f0 ca bd 7d 5...</td>\n",
       "      <td>3</td>\n",
       "    </tr>\n",
       "    <tr>\n",
       "      <th>94582</th>\n",
       "      <td>ff ff 2f e7 40 ed 51 ac 78 4a d4 3c b4 00 2c b...</td>\n",
       "      <td>2</td>\n",
       "    </tr>\n",
       "  </tbody>\n",
       "</table>\n",
       "<p>94583 rows × 2 columns</p>\n",
       "</div>"
      ],
      "text/plain": [
       "                                             customer_id  \\\n",
       "0      00 00 53 c3 da b2 51 71 0a 93 d0 48 d5 fd 16 9...   \n",
       "1      00 01 08 12 ec be c7 97 99 d2 59 e7 bc 6c e5 7...   \n",
       "2      00 01 6d e8 1b d2 e6 70 0a 37 7c 8e 61 53 3b 2...   \n",
       "3      00 02 03 67 14 19 c0 9b e4 c2 16 47 03 2c 63 4...   \n",
       "4      00 02 2c de f5 c8 ab 25 70 c3 85 b0 7d a5 de 7...   \n",
       "...                                                  ...   \n",
       "94578  ff fd 3a 95 ca 6c b5 dd c6 ea 93 b6 9d 2d 17 b...   \n",
       "94579  ff fd 4d 8e 34 39 72 64 af 61 b4 2e d9 21 c1 a...   \n",
       "94580  ff fe 80 d9 8b 93 8a 9f 68 4f 17 18 65 0d dc 8...   \n",
       "94581  ff ff 21 12 33 44 32 be f3 4e 33 f0 ca bd 7d 5...   \n",
       "94582  ff ff 2f e7 40 ed 51 ac 78 4a d4 3c b4 00 2c b...   \n",
       "\n",
       "       customer_payment_count  \n",
       "0                           2  \n",
       "1                           2  \n",
       "2                           5  \n",
       "3                           2  \n",
       "4                           6  \n",
       "...                       ...  \n",
       "94578                       2  \n",
       "94579                       1  \n",
       "94580                       3  \n",
       "94581                       3  \n",
       "94582                       2  \n",
       "\n",
       "[94583 rows x 2 columns]"
      ]
     },
     "execution_count": 301,
     "metadata": {},
     "output_type": "execute_result"
    }
   ],
   "source": [
    "# Contagem de pagamentos por cliente\n",
    "customer_payment_count = payments_df.groupby(\"customer_id\")[\"payment_number\"].count().reset_index()\n",
    "customer_payment_count.rename(columns={\"payment_number\": \"customer_payment_count\"}, inplace=True)\n",
    "payments_df = payments_df.merge(customer_payment_count, on=\"customer_id\", how=\"left\")\n",
    "customer_payment_count"
   ]
  },
  {
   "cell_type": "markdown",
   "metadata": {},
   "source": [
    "- **`company_payment_count`** → Quantidade de pagamentos emitidos por cada empresa.\n",
    "  \n",
    "  Quantidade de pagamentos associados a cada company_id. Média de Atraso dos Clientes (avg_delay_per_customer):"
   ]
  },
  {
   "cell_type": "code",
   "execution_count": 302,
   "metadata": {},
   "outputs": [
    {
     "data": {
      "text/html": [
       "<div>\n",
       "<style scoped>\n",
       "    .dataframe tbody tr th:only-of-type {\n",
       "        vertical-align: middle;\n",
       "    }\n",
       "\n",
       "    .dataframe tbody tr th {\n",
       "        vertical-align: top;\n",
       "    }\n",
       "\n",
       "    .dataframe thead th {\n",
       "        text-align: right;\n",
       "    }\n",
       "</style>\n",
       "<table border=\"1\" class=\"dataframe\">\n",
       "  <thead>\n",
       "    <tr style=\"text-align: right;\">\n",
       "      <th></th>\n",
       "      <th>company_id</th>\n",
       "      <th>company_payment_count</th>\n",
       "    </tr>\n",
       "  </thead>\n",
       "  <tbody>\n",
       "    <tr>\n",
       "      <th>0</th>\n",
       "      <td>03 d1 cf e1 8a dd b7 66 0b 5b ec 0d 4c 7d ee 2...</td>\n",
       "      <td>9</td>\n",
       "    </tr>\n",
       "    <tr>\n",
       "      <th>1</th>\n",
       "      <td>04 5d a6 17 e9 01 7d c0 9a 83 69 54 f7 e7 d1 b...</td>\n",
       "      <td>194</td>\n",
       "    </tr>\n",
       "    <tr>\n",
       "      <th>2</th>\n",
       "      <td>04 84 fa c1 4e 34 ed 78 09 5b 4c 2d cd 7f 1d 9...</td>\n",
       "      <td>96</td>\n",
       "    </tr>\n",
       "    <tr>\n",
       "      <th>3</th>\n",
       "      <td>04 cd f8 a2 03 e7 50 f2 fb 8e 02 08 3a b1 0a d...</td>\n",
       "      <td>116</td>\n",
       "    </tr>\n",
       "    <tr>\n",
       "      <th>4</th>\n",
       "      <td>04 dc 4b b1 12 b2 2f 77 ef 4f 4c 59 1f 3a 40 8...</td>\n",
       "      <td>149</td>\n",
       "    </tr>\n",
       "    <tr>\n",
       "      <th>...</th>\n",
       "      <td>...</td>\n",
       "      <td>...</td>\n",
       "    </tr>\n",
       "    <tr>\n",
       "      <th>378</th>\n",
       "      <td>fb 67 28 05 9e 2f 26 db 3a cc 15 25 52 71 e8 e...</td>\n",
       "      <td>51</td>\n",
       "    </tr>\n",
       "    <tr>\n",
       "      <th>379</th>\n",
       "      <td>fc 73 a4 9a b3 d3 1c 46 a4 69 cb f9 10 36 f1 8...</td>\n",
       "      <td>499</td>\n",
       "    </tr>\n",
       "    <tr>\n",
       "      <th>380</th>\n",
       "      <td>fc b9 ae da 85 2f 85 5d e6 1e 62 b6 b6 36 9c 0...</td>\n",
       "      <td>168</td>\n",
       "    </tr>\n",
       "    <tr>\n",
       "      <th>381</th>\n",
       "      <td>fd 4f 47 d3 00 7d b6 6d 84 ec 36 ed aa 56 04 1...</td>\n",
       "      <td>208</td>\n",
       "    </tr>\n",
       "    <tr>\n",
       "      <th>382</th>\n",
       "      <td>ff f9 55 13 97 70 6b da 43 ad 55 8a 79 88 10 4...</td>\n",
       "      <td>10</td>\n",
       "    </tr>\n",
       "  </tbody>\n",
       "</table>\n",
       "<p>383 rows × 2 columns</p>\n",
       "</div>"
      ],
      "text/plain": [
       "                                            company_id  company_payment_count\n",
       "0    03 d1 cf e1 8a dd b7 66 0b 5b ec 0d 4c 7d ee 2...                      9\n",
       "1    04 5d a6 17 e9 01 7d c0 9a 83 69 54 f7 e7 d1 b...                    194\n",
       "2    04 84 fa c1 4e 34 ed 78 09 5b 4c 2d cd 7f 1d 9...                     96\n",
       "3    04 cd f8 a2 03 e7 50 f2 fb 8e 02 08 3a b1 0a d...                    116\n",
       "4    04 dc 4b b1 12 b2 2f 77 ef 4f 4c 59 1f 3a 40 8...                    149\n",
       "..                                                 ...                    ...\n",
       "378  fb 67 28 05 9e 2f 26 db 3a cc 15 25 52 71 e8 e...                     51\n",
       "379  fc 73 a4 9a b3 d3 1c 46 a4 69 cb f9 10 36 f1 8...                    499\n",
       "380  fc b9 ae da 85 2f 85 5d e6 1e 62 b6 b6 36 9c 0...                    168\n",
       "381  fd 4f 47 d3 00 7d b6 6d 84 ec 36 ed aa 56 04 1...                    208\n",
       "382  ff f9 55 13 97 70 6b da 43 ad 55 8a 79 88 10 4...                     10\n",
       "\n",
       "[383 rows x 2 columns]"
      ]
     },
     "execution_count": 302,
     "metadata": {},
     "output_type": "execute_result"
    }
   ],
   "source": [
    "# Contagem de pagamentos por empresa\n",
    "company_payment_count = payments_df.groupby(\"company_id\")[\"payment_number\"].count().reset_index()\n",
    "company_payment_count.rename(columns={\"payment_number\": \"company_payment_count\"}, inplace=True)\n",
    "payments_df = payments_df.merge(company_payment_count, on=\"company_id\", how=\"left\")\n",
    "company_payment_count"
   ]
  },
  {
   "cell_type": "markdown",
   "metadata": {},
   "source": [
    "- **`avg_delay_per_customer`** → Média de atraso nos pagamentos por cliente.\n",
    "\n",
    "  Média de delay_days para cada customer_id."
   ]
  },
  {
   "cell_type": "code",
   "execution_count": 303,
   "metadata": {},
   "outputs": [
    {
     "data": {
      "text/html": [
       "<div>\n",
       "<style scoped>\n",
       "    .dataframe tbody tr th:only-of-type {\n",
       "        vertical-align: middle;\n",
       "    }\n",
       "\n",
       "    .dataframe tbody tr th {\n",
       "        vertical-align: top;\n",
       "    }\n",
       "\n",
       "    .dataframe thead th {\n",
       "        text-align: right;\n",
       "    }\n",
       "</style>\n",
       "<table border=\"1\" class=\"dataframe\">\n",
       "  <thead>\n",
       "    <tr style=\"text-align: right;\">\n",
       "      <th></th>\n",
       "      <th>customer_id</th>\n",
       "      <th>avg_delay_per_customer</th>\n",
       "    </tr>\n",
       "  </thead>\n",
       "  <tbody>\n",
       "    <tr>\n",
       "      <th>0</th>\n",
       "      <td>00 00 53 c3 da b2 51 71 0a 93 d0 48 d5 fd 16 9...</td>\n",
       "      <td>91.000000</td>\n",
       "    </tr>\n",
       "    <tr>\n",
       "      <th>1</th>\n",
       "      <td>00 01 08 12 ec be c7 97 99 d2 59 e7 bc 6c e5 7...</td>\n",
       "      <td>37.500000</td>\n",
       "    </tr>\n",
       "    <tr>\n",
       "      <th>2</th>\n",
       "      <td>00 01 6d e8 1b d2 e6 70 0a 37 7c 8e 61 53 3b 2...</td>\n",
       "      <td>NaN</td>\n",
       "    </tr>\n",
       "    <tr>\n",
       "      <th>3</th>\n",
       "      <td>00 02 03 67 14 19 c0 9b e4 c2 16 47 03 2c 63 4...</td>\n",
       "      <td>16.000000</td>\n",
       "    </tr>\n",
       "    <tr>\n",
       "      <th>4</th>\n",
       "      <td>00 02 2c de f5 c8 ab 25 70 c3 85 b0 7d a5 de 7...</td>\n",
       "      <td>0.833333</td>\n",
       "    </tr>\n",
       "    <tr>\n",
       "      <th>...</th>\n",
       "      <td>...</td>\n",
       "      <td>...</td>\n",
       "    </tr>\n",
       "    <tr>\n",
       "      <th>94578</th>\n",
       "      <td>ff fd 3a 95 ca 6c b5 dd c6 ea 93 b6 9d 2d 17 b...</td>\n",
       "      <td>NaN</td>\n",
       "    </tr>\n",
       "    <tr>\n",
       "      <th>94579</th>\n",
       "      <td>ff fd 4d 8e 34 39 72 64 af 61 b4 2e d9 21 c1 a...</td>\n",
       "      <td>NaN</td>\n",
       "    </tr>\n",
       "    <tr>\n",
       "      <th>94580</th>\n",
       "      <td>ff fe 80 d9 8b 93 8a 9f 68 4f 17 18 65 0d dc 8...</td>\n",
       "      <td>4.000000</td>\n",
       "    </tr>\n",
       "    <tr>\n",
       "      <th>94581</th>\n",
       "      <td>ff ff 21 12 33 44 32 be f3 4e 33 f0 ca bd 7d 5...</td>\n",
       "      <td>NaN</td>\n",
       "    </tr>\n",
       "    <tr>\n",
       "      <th>94582</th>\n",
       "      <td>ff ff 2f e7 40 ed 51 ac 78 4a d4 3c b4 00 2c b...</td>\n",
       "      <td>NaN</td>\n",
       "    </tr>\n",
       "  </tbody>\n",
       "</table>\n",
       "<p>94583 rows × 2 columns</p>\n",
       "</div>"
      ],
      "text/plain": [
       "                                             customer_id  \\\n",
       "0      00 00 53 c3 da b2 51 71 0a 93 d0 48 d5 fd 16 9...   \n",
       "1      00 01 08 12 ec be c7 97 99 d2 59 e7 bc 6c e5 7...   \n",
       "2      00 01 6d e8 1b d2 e6 70 0a 37 7c 8e 61 53 3b 2...   \n",
       "3      00 02 03 67 14 19 c0 9b e4 c2 16 47 03 2c 63 4...   \n",
       "4      00 02 2c de f5 c8 ab 25 70 c3 85 b0 7d a5 de 7...   \n",
       "...                                                  ...   \n",
       "94578  ff fd 3a 95 ca 6c b5 dd c6 ea 93 b6 9d 2d 17 b...   \n",
       "94579  ff fd 4d 8e 34 39 72 64 af 61 b4 2e d9 21 c1 a...   \n",
       "94580  ff fe 80 d9 8b 93 8a 9f 68 4f 17 18 65 0d dc 8...   \n",
       "94581  ff ff 21 12 33 44 32 be f3 4e 33 f0 ca bd 7d 5...   \n",
       "94582  ff ff 2f e7 40 ed 51 ac 78 4a d4 3c b4 00 2c b...   \n",
       "\n",
       "       avg_delay_per_customer  \n",
       "0                   91.000000  \n",
       "1                   37.500000  \n",
       "2                         NaN  \n",
       "3                   16.000000  \n",
       "4                    0.833333  \n",
       "...                       ...  \n",
       "94578                     NaN  \n",
       "94579                     NaN  \n",
       "94580                4.000000  \n",
       "94581                     NaN  \n",
       "94582                     NaN  \n",
       "\n",
       "[94583 rows x 2 columns]"
      ]
     },
     "execution_count": 303,
     "metadata": {},
     "output_type": "execute_result"
    }
   ],
   "source": [
    "avg_delay_per_customer = payments_df.groupby(\"customer_id\")[\"delay_days\"].mean().reset_index()\n",
    "avg_delay_per_customer.rename(columns={\"delay_days\": \"avg_delay_per_customer\"}, inplace=True)\n",
    "payments_df = payments_df.merge(avg_delay_per_customer, on=\"customer_id\", how=\"left\")\n",
    "avg_delay_per_customer"
   ]
  },
  {
   "cell_type": "markdown",
   "metadata": {},
   "source": [
    "- **`is_late`** → Flag indicando se o pagamento foi realizado com atraso (1) ou não (0).\n",
    "\n",
    "  Se delay_days > 0, considera-se que o pagamento foi atrasado."
   ]
  },
  {
   "cell_type": "code",
   "execution_count": 304,
   "metadata": {},
   "outputs": [
    {
     "data": {
      "text/plain": [
       "0         0\n",
       "1         0\n",
       "2         0\n",
       "3         0\n",
       "4         0\n",
       "         ..\n",
       "391253    1\n",
       "391254    0\n",
       "391255    0\n",
       "391256    0\n",
       "391257    0\n",
       "Name: is_late, Length: 391258, dtype: int64"
      ]
     },
     "execution_count": 304,
     "metadata": {},
     "output_type": "execute_result"
    }
   ],
   "source": [
    "payments_df[\"is_late\"] = (payments_df[\"delay_days\"] > 0).astype(int)\n",
    "payments_df[\"is_late\"]"
   ]
  },
  {
   "cell_type": "markdown",
   "metadata": {},
   "source": [
    "- **`active_duration`** → Duração (em dias) entre a primeira e a última atividade da empresa\n",
    "\n",
    "  A feature 'active_duration' pode ajudar a identificar a regularidade e a continuidade das atividades das empresas,\n",
    "  servindo como um proxy para a estabilidade financeira e operacional."
   ]
  },
  {
   "cell_type": "code",
   "execution_count": 305,
   "metadata": {},
   "outputs": [
    {
     "name": "stdout",
     "output_type": "stream",
     "text": [
      "\n",
      "Exemplo da feature 'active_duration' em companies_df:\n"
     ]
    },
    {
     "data": {
      "text/html": [
       "<div>\n",
       "<style scoped>\n",
       "    .dataframe tbody tr th:only-of-type {\n",
       "        vertical-align: middle;\n",
       "    }\n",
       "\n",
       "    .dataframe tbody tr th {\n",
       "        vertical-align: top;\n",
       "    }\n",
       "\n",
       "    .dataframe thead th {\n",
       "        text-align: right;\n",
       "    }\n",
       "</style>\n",
       "<table border=\"1\" class=\"dataframe\">\n",
       "  <thead>\n",
       "    <tr style=\"text-align: right;\">\n",
       "      <th></th>\n",
       "      <th>first_active_date</th>\n",
       "      <th>last_active_date</th>\n",
       "      <th>active_duration</th>\n",
       "    </tr>\n",
       "  </thead>\n",
       "  <tbody>\n",
       "    <tr>\n",
       "      <th>0</th>\n",
       "      <td>2024-03-01 00:13:50</td>\n",
       "      <td>2024-07-01 20:47:48</td>\n",
       "      <td>122.0</td>\n",
       "    </tr>\n",
       "    <tr>\n",
       "      <th>1</th>\n",
       "      <td>2023-09-01 11:26:10</td>\n",
       "      <td>2025-01-02 11:25:52</td>\n",
       "      <td>488.0</td>\n",
       "    </tr>\n",
       "    <tr>\n",
       "      <th>3</th>\n",
       "      <td>2024-09-17 20:53:21</td>\n",
       "      <td>2024-09-17 20:53:21</td>\n",
       "      <td>0.0</td>\n",
       "    </tr>\n",
       "    <tr>\n",
       "      <th>4</th>\n",
       "      <td>2023-03-06 13:51:28</td>\n",
       "      <td>2024-12-06 19:34:13</td>\n",
       "      <td>641.0</td>\n",
       "    </tr>\n",
       "    <tr>\n",
       "      <th>6</th>\n",
       "      <td>NaT</td>\n",
       "      <td>2024-12-07 12:16:48</td>\n",
       "      <td>NaN</td>\n",
       "    </tr>\n",
       "    <tr>\n",
       "      <th>...</th>\n",
       "      <td>...</td>\n",
       "      <td>...</td>\n",
       "      <td>...</td>\n",
       "    </tr>\n",
       "    <tr>\n",
       "      <th>692</th>\n",
       "      <td>2024-02-06 16:26:24</td>\n",
       "      <td>2025-01-03 13:08:13</td>\n",
       "      <td>331.0</td>\n",
       "    </tr>\n",
       "    <tr>\n",
       "      <th>693</th>\n",
       "      <td>NaT</td>\n",
       "      <td>2024-04-15 12:30:14</td>\n",
       "      <td>NaN</td>\n",
       "    </tr>\n",
       "    <tr>\n",
       "      <th>695</th>\n",
       "      <td>2024-10-03 18:47:13</td>\n",
       "      <td>2025-01-06 18:43:36</td>\n",
       "      <td>94.0</td>\n",
       "    </tr>\n",
       "    <tr>\n",
       "      <th>696</th>\n",
       "      <td>NaT</td>\n",
       "      <td>2024-09-23 23:23:48</td>\n",
       "      <td>NaN</td>\n",
       "    </tr>\n",
       "    <tr>\n",
       "      <th>697</th>\n",
       "      <td>NaT</td>\n",
       "      <td>2025-01-05 12:30:41</td>\n",
       "      <td>NaN</td>\n",
       "    </tr>\n",
       "  </tbody>\n",
       "</table>\n",
       "<p>503 rows × 3 columns</p>\n",
       "</div>"
      ],
      "text/plain": [
       "      first_active_date    last_active_date  active_duration\n",
       "0   2024-03-01 00:13:50 2024-07-01 20:47:48            122.0\n",
       "1   2023-09-01 11:26:10 2025-01-02 11:25:52            488.0\n",
       "3   2024-09-17 20:53:21 2024-09-17 20:53:21              0.0\n",
       "4   2023-03-06 13:51:28 2024-12-06 19:34:13            641.0\n",
       "6                   NaT 2024-12-07 12:16:48              NaN\n",
       "..                  ...                 ...              ...\n",
       "692 2024-02-06 16:26:24 2025-01-03 13:08:13            331.0\n",
       "693                 NaT 2024-04-15 12:30:14              NaN\n",
       "695 2024-10-03 18:47:13 2025-01-06 18:43:36             94.0\n",
       "696                 NaT 2024-09-23 23:23:48              NaN\n",
       "697                 NaT 2025-01-05 12:30:41              NaN\n",
       "\n",
       "[503 rows x 3 columns]"
      ]
     },
     "execution_count": 305,
     "metadata": {},
     "output_type": "execute_result"
    }
   ],
   "source": [
    "companies_df[\"active_duration\"] = (\n",
    "    companies_df[\"last_active_date\"] - companies_df[\"first_active_date\"]\n",
    ").dt.days\n",
    "print(\"\\nExemplo da feature 'active_duration' em companies_df:\")\n",
    "companies_df[[\"first_active_date\", \"last_active_date\", \"active_duration\"]]"
   ]
  },
  {
   "cell_type": "code",
   "execution_count": 306,
   "metadata": {},
   "outputs": [
    {
     "name": "stderr",
     "output_type": "stream",
     "text": [
      "/tmp/ipykernel_49835/3884749441.py:10: DeprecationWarning: DataFrameGroupBy.apply operated on the grouping columns. This behavior is deprecated, and in a future version of pandas the grouping columns will be excluded from the operation. Either pass `include_groups=False` to exclude the groupings or explicitly select the grouping columns after groupby to silence this warning.\n",
      "  payments_df.dropna(subset=[\"paid_at_dte\"]).groupby(\"customer_id\").apply(recent_avg_delay)\n"
     ]
    },
    {
     "data": {
      "text/html": [
       "<div>\n",
       "<style scoped>\n",
       "    .dataframe tbody tr th:only-of-type {\n",
       "        vertical-align: middle;\n",
       "    }\n",
       "\n",
       "    .dataframe tbody tr th {\n",
       "        vertical-align: top;\n",
       "    }\n",
       "\n",
       "    .dataframe thead th {\n",
       "        text-align: right;\n",
       "    }\n",
       "</style>\n",
       "<table border=\"1\" class=\"dataframe\">\n",
       "  <thead>\n",
       "    <tr style=\"text-align: right;\">\n",
       "      <th></th>\n",
       "      <th>customer_id</th>\n",
       "      <th>recent_avg_delay</th>\n",
       "    </tr>\n",
       "  </thead>\n",
       "  <tbody>\n",
       "    <tr>\n",
       "      <th>0</th>\n",
       "      <td>00 00 53 c3 da b2 51 71 0a 93 d0 48 d5 fd 16 9...</td>\n",
       "      <td>91.0</td>\n",
       "    </tr>\n",
       "    <tr>\n",
       "      <th>1</th>\n",
       "      <td>00 01 08 12 ec be c7 97 99 d2 59 e7 bc 6c e5 7...</td>\n",
       "      <td>37.5</td>\n",
       "    </tr>\n",
       "    <tr>\n",
       "      <th>2</th>\n",
       "      <td>00 02 03 67 14 19 c0 9b e4 c2 16 47 03 2c 63 4...</td>\n",
       "      <td>16.0</td>\n",
       "    </tr>\n",
       "    <tr>\n",
       "      <th>3</th>\n",
       "      <td>00 02 2c de f5 c8 ab 25 70 c3 85 b0 7d a5 de 7...</td>\n",
       "      <td>1.0</td>\n",
       "    </tr>\n",
       "    <tr>\n",
       "      <th>4</th>\n",
       "      <td>00 03 f1 d5 79 03 a9 5d a5 8a 79 db 6c 1c 28 3...</td>\n",
       "      <td>-3.0</td>\n",
       "    </tr>\n",
       "    <tr>\n",
       "      <th>...</th>\n",
       "      <td>...</td>\n",
       "      <td>...</td>\n",
       "    </tr>\n",
       "    <tr>\n",
       "      <th>61074</th>\n",
       "      <td>ff fa 5e 17 b5 f2 9d 81 f1 bc cd d0 01 7d a0 f...</td>\n",
       "      <td>0.0</td>\n",
       "    </tr>\n",
       "    <tr>\n",
       "      <th>61075</th>\n",
       "      <td>ff fa cb 84 20 2b fb 91 81 f3 2e 50 9d 4b db a...</td>\n",
       "      <td>22.0</td>\n",
       "    </tr>\n",
       "    <tr>\n",
       "      <th>61076</th>\n",
       "      <td>ff fb 51 db c9 d3 b9 3e 22 d3 5b d1 7b f5 13 e...</td>\n",
       "      <td>1.0</td>\n",
       "    </tr>\n",
       "    <tr>\n",
       "      <th>61077</th>\n",
       "      <td>ff fb 80 61 9a d6 da c9 4a bc ed d0 60 bb 7d c...</td>\n",
       "      <td>38.0</td>\n",
       "    </tr>\n",
       "    <tr>\n",
       "      <th>61078</th>\n",
       "      <td>ff fe 80 d9 8b 93 8a 9f 68 4f 17 18 65 0d dc 8...</td>\n",
       "      <td>4.0</td>\n",
       "    </tr>\n",
       "  </tbody>\n",
       "</table>\n",
       "<p>61079 rows × 2 columns</p>\n",
       "</div>"
      ],
      "text/plain": [
       "                                             customer_id  recent_avg_delay\n",
       "0      00 00 53 c3 da b2 51 71 0a 93 d0 48 d5 fd 16 9...              91.0\n",
       "1      00 01 08 12 ec be c7 97 99 d2 59 e7 bc 6c e5 7...              37.5\n",
       "2      00 02 03 67 14 19 c0 9b e4 c2 16 47 03 2c 63 4...              16.0\n",
       "3      00 02 2c de f5 c8 ab 25 70 c3 85 b0 7d a5 de 7...               1.0\n",
       "4      00 03 f1 d5 79 03 a9 5d a5 8a 79 db 6c 1c 28 3...              -3.0\n",
       "...                                                  ...               ...\n",
       "61074  ff fa 5e 17 b5 f2 9d 81 f1 bc cd d0 01 7d a0 f...               0.0\n",
       "61075  ff fa cb 84 20 2b fb 91 81 f3 2e 50 9d 4b db a...              22.0\n",
       "61076  ff fb 51 db c9 d3 b9 3e 22 d3 5b d1 7b f5 13 e...               1.0\n",
       "61077  ff fb 80 61 9a d6 da c9 4a bc ed d0 60 bb 7d c...              38.0\n",
       "61078  ff fe 80 d9 8b 93 8a 9f 68 4f 17 18 65 0d dc 8...               4.0\n",
       "\n",
       "[61079 rows x 2 columns]"
      ]
     },
     "execution_count": 306,
     "metadata": {},
     "output_type": "execute_result"
    }
   ],
   "source": [
    "# Para avaliar a evolução do comportamento, calcula a média dos atrasos nos 3 últimos pagamentos\n",
    "def recent_avg_delay(group):\n",
    "    # Ordena por data de pagamento (do mais antigo para o mais recente)\n",
    "    group = group.sort_values(\"paid_at_dte\")\n",
    "    return group[\"delay_days\"].tail(3).mean()\n",
    "\n",
    "\n",
    "# Aplica a função agrupada, garantindo que consideramos apenas registros com data de pagamento\n",
    "recent_delay = (\n",
    "    payments_df.dropna(subset=[\"paid_at_dte\"]).groupby(\"customer_id\").apply(recent_avg_delay)\n",
    ")\n",
    "recent_delay = recent_delay.reset_index().rename(columns={0: \"recent_avg_delay\"})\n",
    "# Junta a informação de recent_avg_delay ao dataframe agregado\n",
    "payments_df = payments_df.merge(recent_delay, on=\"customer_id\", how=\"left\")\n",
    "recent_delay"
   ]
  },
  {
   "cell_type": "code",
   "execution_count": 307,
   "metadata": {},
   "outputs": [
    {
     "data": {
      "text/html": [
       "<div>\n",
       "<style scoped>\n",
       "    .dataframe tbody tr th:only-of-type {\n",
       "        vertical-align: middle;\n",
       "    }\n",
       "\n",
       "    .dataframe tbody tr th {\n",
       "        vertical-align: top;\n",
       "    }\n",
       "\n",
       "    .dataframe thead th {\n",
       "        text-align: right;\n",
       "    }\n",
       "</style>\n",
       "<table border=\"1\" class=\"dataframe\">\n",
       "  <thead>\n",
       "    <tr style=\"text-align: right;\">\n",
       "      <th></th>\n",
       "      <th>customer_id</th>\n",
       "      <th>total_payments</th>\n",
       "      <th>late_payments</th>\n",
       "      <th>avg_delay</th>\n",
       "      <th>total_amount</th>\n",
       "    </tr>\n",
       "  </thead>\n",
       "  <tbody>\n",
       "    <tr>\n",
       "      <th>0</th>\n",
       "      <td>00 00 53 c3 da b2 51 71 0a 93 d0 48 d5 fd 16 9...</td>\n",
       "      <td>1</td>\n",
       "      <td>1</td>\n",
       "      <td>91.0</td>\n",
       "      <td>308.19</td>\n",
       "    </tr>\n",
       "    <tr>\n",
       "      <th>1</th>\n",
       "      <td>00 01 08 12 ec be c7 97 99 d2 59 e7 bc 6c e5 7...</td>\n",
       "      <td>2</td>\n",
       "      <td>2</td>\n",
       "      <td>37.5</td>\n",
       "      <td>993.10</td>\n",
       "    </tr>\n",
       "    <tr>\n",
       "      <th>2</th>\n",
       "      <td>00 01 6d e8 1b d2 e6 70 0a 37 7c 8e 61 53 3b 2...</td>\n",
       "      <td>0</td>\n",
       "      <td>0</td>\n",
       "      <td>0.0</td>\n",
       "      <td>0.00</td>\n",
       "    </tr>\n",
       "    <tr>\n",
       "      <th>3</th>\n",
       "      <td>00 02 03 67 14 19 c0 9b e4 c2 16 47 03 2c 63 4...</td>\n",
       "      <td>1</td>\n",
       "      <td>1</td>\n",
       "      <td>16.0</td>\n",
       "      <td>490.19</td>\n",
       "    </tr>\n",
       "    <tr>\n",
       "      <th>4</th>\n",
       "      <td>00 02 2c de f5 c8 ab 25 70 c3 85 b0 7d a5 de 7...</td>\n",
       "      <td>6</td>\n",
       "      <td>5</td>\n",
       "      <td>1.0</td>\n",
       "      <td>38563.40</td>\n",
       "    </tr>\n",
       "    <tr>\n",
       "      <th>...</th>\n",
       "      <td>...</td>\n",
       "      <td>...</td>\n",
       "      <td>...</td>\n",
       "      <td>...</td>\n",
       "      <td>...</td>\n",
       "    </tr>\n",
       "    <tr>\n",
       "      <th>94578</th>\n",
       "      <td>ff fd 3a 95 ca 6c b5 dd c6 ea 93 b6 9d 2d 17 b...</td>\n",
       "      <td>0</td>\n",
       "      <td>0</td>\n",
       "      <td>0.0</td>\n",
       "      <td>0.00</td>\n",
       "    </tr>\n",
       "    <tr>\n",
       "      <th>94579</th>\n",
       "      <td>ff fd 4d 8e 34 39 72 64 af 61 b4 2e d9 21 c1 a...</td>\n",
       "      <td>0</td>\n",
       "      <td>0</td>\n",
       "      <td>0.0</td>\n",
       "      <td>0.00</td>\n",
       "    </tr>\n",
       "    <tr>\n",
       "      <th>94580</th>\n",
       "      <td>ff fe 80 d9 8b 93 8a 9f 68 4f 17 18 65 0d dc 8...</td>\n",
       "      <td>2</td>\n",
       "      <td>2</td>\n",
       "      <td>4.0</td>\n",
       "      <td>7412.08</td>\n",
       "    </tr>\n",
       "    <tr>\n",
       "      <th>94581</th>\n",
       "      <td>ff ff 21 12 33 44 32 be f3 4e 33 f0 ca bd 7d 5...</td>\n",
       "      <td>0</td>\n",
       "      <td>0</td>\n",
       "      <td>0.0</td>\n",
       "      <td>0.00</td>\n",
       "    </tr>\n",
       "    <tr>\n",
       "      <th>94582</th>\n",
       "      <td>ff ff 2f e7 40 ed 51 ac 78 4a d4 3c b4 00 2c b...</td>\n",
       "      <td>0</td>\n",
       "      <td>0</td>\n",
       "      <td>0.0</td>\n",
       "      <td>0.00</td>\n",
       "    </tr>\n",
       "  </tbody>\n",
       "</table>\n",
       "<p>94583 rows × 5 columns</p>\n",
       "</div>"
      ],
      "text/plain": [
       "                                             customer_id  total_payments  \\\n",
       "0      00 00 53 c3 da b2 51 71 0a 93 d0 48 d5 fd 16 9...               1   \n",
       "1      00 01 08 12 ec be c7 97 99 d2 59 e7 bc 6c e5 7...               2   \n",
       "2      00 01 6d e8 1b d2 e6 70 0a 37 7c 8e 61 53 3b 2...               0   \n",
       "3      00 02 03 67 14 19 c0 9b e4 c2 16 47 03 2c 63 4...               1   \n",
       "4      00 02 2c de f5 c8 ab 25 70 c3 85 b0 7d a5 de 7...               6   \n",
       "...                                                  ...             ...   \n",
       "94578  ff fd 3a 95 ca 6c b5 dd c6 ea 93 b6 9d 2d 17 b...               0   \n",
       "94579  ff fd 4d 8e 34 39 72 64 af 61 b4 2e d9 21 c1 a...               0   \n",
       "94580  ff fe 80 d9 8b 93 8a 9f 68 4f 17 18 65 0d dc 8...               2   \n",
       "94581  ff ff 21 12 33 44 32 be f3 4e 33 f0 ca bd 7d 5...               0   \n",
       "94582  ff ff 2f e7 40 ed 51 ac 78 4a d4 3c b4 00 2c b...               0   \n",
       "\n",
       "       late_payments  avg_delay  total_amount  \n",
       "0                  1       91.0        308.19  \n",
       "1                  2       37.5        993.10  \n",
       "2                  0        0.0          0.00  \n",
       "3                  1       16.0        490.19  \n",
       "4                  5        1.0      38563.40  \n",
       "...              ...        ...           ...  \n",
       "94578              0        0.0          0.00  \n",
       "94579              0        0.0          0.00  \n",
       "94580              2        4.0       7412.08  \n",
       "94581              0        0.0          0.00  \n",
       "94582              0        0.0          0.00  \n",
       "\n",
       "[94583 rows x 5 columns]"
      ]
     },
     "execution_count": 307,
     "metadata": {},
     "output_type": "execute_result"
    }
   ],
   "source": [
    "# Agrupamento dos dados por 'customer_id'\n",
    "customer_features = (\n",
    "    payments_df.groupby(\"customer_id\")\n",
    "    .agg(\n",
    "        total_payments=(\"paid_at_dte\", \"count\"),\n",
    "        late_payments=(\"is_late\", \"sum\"),\n",
    "        avg_delay=(\"delay_days\", lambda x: np.nanmean(x[x > 0]) if np.any(x > 0) else 0),\n",
    "        total_amount=(\"paid_amount\", \"sum\"),\n",
    "    )\n",
    "    .reset_index()\n",
    ")\n",
    "payments_df = payments_df.merge(customer_features, on=\"customer_id\", how=\"left\")\n",
    "customer_features"
   ]
  },
  {
   "cell_type": "code",
   "execution_count": 308,
   "metadata": {},
   "outputs": [
    {
     "data": {
      "text/plain": [
       "0         0.000000\n",
       "1         0.000000\n",
       "2         0.100000\n",
       "3         1.000000\n",
       "4         0.085714\n",
       "            ...   \n",
       "391253    1.000000\n",
       "391254    0.000000\n",
       "391255         NaN\n",
       "391256         NaN\n",
       "391257         NaN\n",
       "Name: late_rate, Length: 391258, dtype: float64"
      ]
     },
     "execution_count": 308,
     "metadata": {},
     "output_type": "execute_result"
    }
   ],
   "source": [
    "# Cálculo da taxa de atraso\n",
    "payments_df[\"late_rate\"] = payments_df[\"late_payments\"] / payments_df[\"total_payments\"]\n",
    "payments_df[\"late_rate\"]"
   ]
  },
  {
   "cell_type": "code",
   "execution_count": 309,
   "metadata": {},
   "outputs": [
    {
     "data": {
      "text/plain": [
       "0         -5.0\n",
       "1         -3.0\n",
       "2         -3.0\n",
       "3          NaN\n",
       "4          NaN\n",
       "          ... \n",
       "391253    58.0\n",
       "391254     0.0\n",
       "391255     NaN\n",
       "391256     NaN\n",
       "391257     NaN\n",
       "Name: time_to_pay, Length: 391258, dtype: float64"
      ]
     },
     "execution_count": 309,
     "metadata": {},
     "output_type": "execute_result"
    }
   ],
   "source": [
    "# Criar a variável tempo entre a cobrança e o pagamento (em dias)\n",
    "payments_df[\"time_to_pay\"] = (payments_df[\"paid_at_dte\"] - payments_df[\"due_date_dte\"]).dt.days\n",
    "payments_df[\"time_to_pay\"]"
   ]
  },
  {
   "cell_type": "code",
   "execution_count": 310,
   "metadata": {},
   "outputs": [
    {
     "data": {
      "text/plain": [
       "0         -5.000000\n",
       "1         -2.000000\n",
       "2         -1.600000\n",
       "3          3.000000\n",
       "4          0.171429\n",
       "            ...    \n",
       "391253    42.250000\n",
       "391254     0.000000\n",
       "391255          NaN\n",
       "391256          NaN\n",
       "391257          NaN\n",
       "Name: avg_time_to_pay, Length: 391258, dtype: float64"
      ]
     },
     "execution_count": 310,
     "metadata": {},
     "output_type": "execute_result"
    }
   ],
   "source": [
    "# Criar uma métrica de tempo médio de pagamento por cliente\n",
    "payments_df[\"avg_time_to_pay\"] = payments_df.groupby(\"customer_id\")[\"time_to_pay\"].transform(\"mean\")\n",
    "payments_df[\"avg_time_to_pay\"]"
   ]
  },
  {
   "cell_type": "code",
   "execution_count": 311,
   "metadata": {},
   "outputs": [
    {
     "data": {
      "text/plain": [
       "0         1\n",
       "1         1\n",
       "2         1\n",
       "3         0\n",
       "4         0\n",
       "         ..\n",
       "391253    0\n",
       "391254    0\n",
       "391255    0\n",
       "391256    0\n",
       "391257    0\n",
       "Name: early_payment, Length: 391258, dtype: int64"
      ]
     },
     "execution_count": 311,
     "metadata": {},
     "output_type": "execute_result"
    }
   ],
   "source": [
    "# Criar um indicador se o pagamento foi realizado antes ou depois do vencimento\n",
    "payments_df[\"early_payment\"] = (payments_df[\"time_to_pay\"] < 0).astype(int)\n",
    "payments_df[\"early_payment\"]"
   ]
  },
  {
   "cell_type": "code",
   "execution_count": 312,
   "metadata": {},
   "outputs": [
    {
     "data": {
      "text/plain": [
       "0         -5.000000\n",
       "1         -2.000000\n",
       "2         -1.600000\n",
       "3          3.000000\n",
       "4          0.171429\n",
       "            ...    \n",
       "391253    42.250000\n",
       "391254     0.000000\n",
       "391255     0.000000\n",
       "391256     0.000000\n",
       "391257     0.000000\n",
       "Name: avg_time_to_pay, Length: 391258, dtype: float64"
      ]
     },
     "execution_count": 312,
     "metadata": {},
     "output_type": "execute_result"
    }
   ],
   "source": [
    "# Substituir valores NaN por 0 para clientes sem histórico suficiente\n",
    "payments_df[\"avg_time_to_pay\"] = payments_df[\"avg_time_to_pay\"].fillna(0)\n",
    "payments_df[\"avg_time_to_pay\"]"
   ]
  },
  {
   "cell_type": "markdown",
   "metadata": {},
   "source": [
    "## Analise dos dados"
   ]
  },
  {
   "cell_type": "code",
   "execution_count": 313,
   "metadata": {},
   "outputs": [
    {
     "name": "stdout",
     "output_type": "stream",
     "text": [
      "Percentual de pagamentos com atraso: 18.15%\n"
     ]
    }
   ],
   "source": [
    "# Percentual de pagamentos com atraso\n",
    "late_rate_overall = payments_df[\"is_late\"].mean() * 100\n",
    "print(f\"Percentual de pagamentos com atraso: {late_rate_overall:.2f}%\")"
   ]
  },
  {
   "cell_type": "code",
   "execution_count": 314,
   "metadata": {},
   "outputs": [
    {
     "data": {
      "text/plain": [
       "payment_status\n",
       "paid                      153640\n",
       "pending                   116060\n",
       "cancelled                  78091\n",
       "overdue                    40996\n",
       "error                       1771\n",
       "processing_protest           225\n",
       "processing_derrogatory       159\n",
       "derrogatory                   88\n",
       "protested                     78\n",
       "paid_after_derrogatory        54\n",
       "paid_after_protested          51\n",
       "payment_captured              21\n",
       "pending_derrogatory           10\n",
       "derrogatory_cancelled         10\n",
       "protest_cancelled              4\n",
       "Name: count, dtype: int64"
      ]
     },
     "execution_count": 314,
     "metadata": {},
     "output_type": "execute_result"
    }
   ],
   "source": [
    "# Contagem de status de pagamento\n",
    "payments_df[\"payment_status\"].value_counts()"
   ]
  },
  {
   "cell_type": "code",
   "execution_count": 315,
   "metadata": {},
   "outputs": [
    {
     "data": {
      "text/plain": [
       "is_growing       154\n",
       "is_shrinking      82\n",
       "is_churn_risk      4\n",
       "dtype: int64"
      ]
     },
     "execution_count": 315,
     "metadata": {},
     "output_type": "execute_result"
    }
   ],
   "source": [
    "# # Identificação de padrões de crescimento e churn\n",
    "companies_df[[\"is_growing\", \"is_shrinking\", \"is_churn_risk\"]].sum()"
   ]
  },
  {
   "cell_type": "code",
   "execution_count": 316,
   "metadata": {},
   "outputs": [
    {
     "data": {
      "text/plain": [
       "is_churn_risk\n",
       "False     8.253195\n",
       "True     18.381431\n",
       "Name: delay_days, dtype: float64"
      ]
     },
     "execution_count": 316,
     "metadata": {},
     "output_type": "execute_result"
    }
   ],
   "source": [
    "# Cruzamento dos dados de pagamentos com perfil das empresas\n",
    "payments_companies_merge = payments_df.merge(companies_df, on=\"company_id\", how=\"left\")\n",
    "\n",
    "# Análise da relação entre atraso no pagamento e status de churn da empresa\n",
    "payments_companies_merge.groupby(\"is_churn_risk\")[\"delay_days\"].mean()"
   ]
  },
  {
   "cell_type": "markdown",
   "metadata": {},
   "source": [
    "### Visualização dos dados."
   ]
  },
  {
   "cell_type": "code",
   "execution_count": 317,
   "metadata": {},
   "outputs": [
    {
     "data": {
      "image/png": "[encoded data removed]",
      "text/plain": [
       "<Figure size 1000x600 with 1 Axes>"
      ]
     },
     "metadata": {},
     "output_type": "display_data"
    }
   ],
   "source": [
    "# Frequência de pagamentos por cliente\n",
    "payment_counts = payments_df[\"customer_id\"].value_counts()\n",
    "\n",
    "# Visualizando a distribuição\n",
    "plt.figure(figsize=(10, 6))\n",
    "sns.histplot(payment_counts, bins=30, kde=True)\n",
    "plt.title(\"Distribuição da Frequência de Pagamentos por Cliente\")\n",
    "plt.xlabel(\"Número de Pagamentos\")\n",
    "plt.ylabel(\"Quantidade de Clientes\")\n",
    "plt.show()"
   ]
  },
  {
   "cell_type": "code",
   "execution_count": 318,
   "metadata": {},
   "outputs": [
    {
     "data": {
      "image/png": "[encoded data removed]",
      "text/plain": [
       "<Figure size 1000x600 with 1 Axes>"
      ]
     },
     "metadata": {},
     "output_type": "display_data"
    }
   ],
   "source": [
    "# Analisando a distribuição dos valores pagos\n",
    "plt.figure(figsize=(10, 6))\n",
    "plt.hist(payments_df[\"paid_amount\"].dropna(), bins=50, edgecolor=\"black\", alpha=0.7)\n",
    "plt.title(\"Distribuição dos Valores Pagos\")\n",
    "plt.xlabel(\"Valor Pago\")\n",
    "plt.ylabel(\"Frequência\")\n",
    "plt.grid(axis=\"y\", linestyle=\"--\", alpha=0.7)\n",
    "plt.show()"
   ]
  },
  {
   "cell_type": "code",
   "execution_count": 319,
   "metadata": {},
   "outputs": [
    {
     "data": {
      "image/png": "[encoded data removed]",
      "text/plain": [
       "<Figure size 1000x600 with 1 Axes>"
      ]
     },
     "metadata": {},
     "output_type": "display_data"
    }
   ],
   "source": [
    "# Analisando a distribuição dos dias de atraso (delay_days)\n",
    "plt.figure(figsize=(10, 6))\n",
    "sns.histplot(payments_df[\"delay_days\"], bins=50, kde=True, color=\"blue\")\n",
    "plt.title(\"Distribuição dos Dias de Atraso nos Pagamentos\")\n",
    "plt.xlabel(\"Dias de Atraso\")\n",
    "plt.ylabel(\"Frequência\")\n",
    "plt.grid(axis=\"y\", linestyle=\"--\", alpha=0.7)\n",
    "plt.show()"
   ]
  },
  {
   "cell_type": "markdown",
   "metadata": {},
   "source": [
    "**Distribuição dos Dias de Atraso (`delay_days`)**:\n",
    "   - A maioria dos pagamentos ocorre dentro do prazo ou com pequenos atrasos.\n",
    "   - Há um número significativo de pagamentos com grandes atrasos, o que pode indicar um problema recorrente de inadimplência."
   ]
  },
  {
   "cell_type": "code",
   "execution_count": 320,
   "metadata": {},
   "outputs": [
    {
     "data": {
      "image/png": "[encoded data removed]",
      "text/plain": [
       "<Figure size 1000x600 with 1 Axes>"
      ]
     },
     "metadata": {},
     "output_type": "display_data"
    }
   ],
   "source": [
    "# Analisando a distribuição da taxa de pagamento (payment_ratio)\n",
    "plt.figure(figsize=(10, 6))\n",
    "sns.histplot(payments_df[\"payment_ratio\"].dropna(), bins=50, kde=True, color=\"green\")\n",
    "plt.title(\"Distribuição da Razão de Pagamento (payment_ratio)\")\n",
    "plt.xlabel(\"Razão de Pagamento\")\n",
    "plt.ylabel(\"Frequência\")\n",
    "plt.grid(axis=\"y\", linestyle=\"--\", alpha=0.7)\n",
    "plt.show()"
   ]
  },
  {
   "cell_type": "markdown",
   "metadata": {},
   "source": [
    "**Distribuição da Razão de Pagamento (`payment_ratio`)**:\n",
    "   - A maioria dos clientes paga 100% do valor devido (`payment_ratio = 1`).\n",
    "   - Alguns clientes pagam valores parciais, sugerindo possíveis dificuldades financeiras ou renegociações."
   ]
  },
  {
   "cell_type": "code",
   "execution_count": 321,
   "metadata": {},
   "outputs": [
    {
     "data": {
      "image/png": "[encoded data removed]",
      "text/plain": [
       "<Figure size 1000x600 with 1 Axes>"
      ]
     },
     "metadata": {},
     "output_type": "display_data"
    }
   ],
   "source": [
    "# Analisando a média de atraso por cliente\n",
    "plt.figure(figsize=(10, 6))\n",
    "sns.histplot(payments_df[\"avg_delay_per_customer\"].dropna(), bins=50, kde=True, color=\"red\")\n",
    "plt.title(\"Distribuição da Média de Atraso por Cliente\")\n",
    "plt.xlabel(\"Média de Dias de Atraso\")\n",
    "plt.ylabel(\"Frequência\")\n",
    "plt.grid(axis=\"y\", linestyle=\"--\", alpha=0.7)\n",
    "plt.show()"
   ]
  },
  {
   "cell_type": "markdown",
   "metadata": {},
   "source": [
    "**Distribuição da Média de Atraso por Cliente (`avg_delay_per_customer`)**:\n",
    "   - A maioria dos clientes tem um pequeno atraso médio ou paga no prazo.\n",
    "   - Alguns clientes apresentam grandes médias de atraso, indicando um perfil de risco para inadimplência."
   ]
  },
  {
   "cell_type": "markdown",
   "metadata": {},
   "source": [
    "#### Proposta de Categorias para Classificação dos Pagadores\n",
    "\n",
    "Com base na análise exploratória dos dados e nos insights obtidos, podemos segmentar os clientes (pagadores) em categorias que reflitam seus comportamentos de pagamento. Essa segmentação auxiliará na definição de estratégias de cobrança e reengajamento.\n"
   ]
  },
  {
   "cell_type": "code",
   "execution_count": 322,
   "metadata": {},
   "outputs": [
    {
     "data": {
      "text/plain": [
       "0             Novos Pagadores\n",
       "1             Novos Pagadores\n",
       "2         Pagadores Duvidosos\n",
       "3             Novos Pagadores\n",
       "4         Pagadores Duvidosos\n",
       "                 ...         \n",
       "391253         Maus Pagadores\n",
       "391254        Novos Pagadores\n",
       "391255        Novos Pagadores\n",
       "391256        Novos Pagadores\n",
       "391257        Novos Pagadores\n",
       "Name: customer_category, Length: 391258, dtype: object"
      ]
     },
     "execution_count": 322,
     "metadata": {},
     "output_type": "execute_result"
    }
   ],
   "source": [
    "# Função para atribuir categorias com base nos critérios definidos:\n",
    "def classify_customer(row):\n",
    "    # Novos Pagadores: poucos registros (menos de 3 cobranças)\n",
    "    if row[\"total_payments\"] < 3:\n",
    "        return \"Novos Pagadores\"\n",
    "    # Bons Pagadores: nenhum atraso registrado\n",
    "    if row[\"late_rate\"] == 0:\n",
    "        return \"Bons Pagadores\"\n",
    "    # Maus Pagadores: alta taxa de atraso (acima de 70%)\n",
    "    elif row[\"late_rate\"] > 0.7:\n",
    "        return \"Maus Pagadores\"\n",
    "    # Pagadores Esquecidos: taxa de atraso entre 30% e 70%\n",
    "    elif row[\"late_rate\"] > 0.3:\n",
    "        return \"Pagadores Esquecidos\"\n",
    "    # Pagadores Duvidosos: taxa de atraso baixa (0 < atraso <= 30%)\n",
    "    else:\n",
    "        return \"Pagadores Duvidosos\"\n",
    "\n",
    "\n",
    "# Aplicando a função de classificação em cada linha do dataframe agregado\n",
    "payments_df[\"customer_category\"] = payments_df.apply(classify_customer, axis=1)\n",
    "\n",
    "payments_df[\"customer_category\"]"
   ]
  },
  {
   "cell_type": "markdown",
   "metadata": {},
   "source": [
    "#### Explicação dos Critérios e Lógica\n",
    "\n",
    "- **Novos Pagadores** → Menos de 3 registros de cobrança  \n",
    "- **Bons Pagadores** → Nenhum atraso registrado  \n",
    "- **Maus Pagadores** → Taxa de atraso acima de 70%  \n",
    "- **Pagadores Esquecidos** → Taxa de atraso entre 30% e 70%  \n",
    "- **Pagadores Duvidosos** → Taxa de atraso baixa (0 < atraso ≤ 30%)  "
   ]
  },
  {
   "cell_type": "code",
   "execution_count": 323,
   "metadata": {},
   "outputs": [
    {
     "data": {
      "text/plain": [
       "customer_category\n",
       "Novos Pagadores         0.624460\n",
       "Maus Pagadores          0.123560\n",
       "Bons Pagadores          0.121695\n",
       "Pagadores Esquecidos    0.074695\n",
       "Pagadores Duvidosos     0.055590\n",
       "Name: proportion, dtype: float64"
      ]
     },
     "execution_count": 323,
     "metadata": {},
     "output_type": "execute_result"
    }
   ],
   "source": [
    "# Verificando a distribuição das novas categorias\n",
    "payments_df[\"customer_category\"].value_counts(normalize=True)"
   ]
  },
  {
   "cell_type": "code",
   "execution_count": 324,
   "metadata": {},
   "outputs": [
    {
     "data": {
      "image/png": "[encoded data removed]",
      "text/plain": [
       "<Figure size 1000x600 with 1 Axes>"
      ]
     },
     "metadata": {},
     "output_type": "display_data"
    }
   ],
   "source": [
    "# Contagem de clientes por categoria\n",
    "category_counts = payments_df[\"customer_category\"].value_counts()\n",
    "\n",
    "# Exibir a distribuição das categorias\n",
    "plt.figure(figsize=(10, 6))\n",
    "category_counts.plot(kind=\"bar\", color=[\"green\", \"orange\", \"red\", \"blue\", \"purple\"])\n",
    "plt.title(\"Distribuição das Categorias de Clientes\")\n",
    "plt.xlabel(\"Categoria\")\n",
    "plt.ylabel(\"Quantidade de Clientes\")\n",
    "plt.xticks(rotation=45)\n",
    "plt.grid(axis=\"y\", linestyle=\"--\", alpha=0.7)\n",
    "plt.show()"
   ]
  },
  {
   "cell_type": "code",
   "execution_count": 325,
   "metadata": {},
   "outputs": [
    {
     "name": "stdout",
     "output_type": "stream",
     "text": [
      "Distribuição da frequência de pagamentos por cliente:\n",
      "count    94583.000000\n",
      "mean         4.136663\n",
      "std          9.046217\n",
      "min          1.000000\n",
      "25%          2.000000\n",
      "50%          3.000000\n",
      "75%          4.000000\n",
      "max       1037.000000\n",
      "Name: count, dtype: float64\n"
     ]
    },
    {
     "data": {
      "image/png": "[encoded data removed]",
      "text/plain": [
       "<Figure size 800x600 with 1 Axes>"
      ]
     },
     "metadata": {},
     "output_type": "display_data"
    }
   ],
   "source": [
    "# Frequência de pagamentos por cliente\n",
    "payment_counts = payments_df[\"customer_id\"].value_counts()\n",
    "print(\"Distribuição da frequência de pagamentos por cliente:\")\n",
    "print(payment_counts.describe())\n",
    "\n",
    "# Visualizando a distribuição\n",
    "plt.figure(figsize=(8, 6))\n",
    "sns.histplot(payment_counts, bins=30, kde=True)\n",
    "plt.title(\"Distribuição da Frequência de Pagamentos por Cliente\")\n",
    "plt.xlabel(\"Número de Pagamentos\")\n",
    "plt.ylabel(\"Quantidade de Clientes\")\n",
    "plt.show()"
   ]
  },
  {
   "cell_type": "code",
   "execution_count": 326,
   "metadata": {},
   "outputs": [],
   "source": [
    "# Cruzando os dados dos pagamentos com as informações das empresas\n",
    "merged_df = payments_df.merge(companies_df, on=\"company_id\", how=\"left\")"
   ]
  },
  {
   "cell_type": "code",
   "execution_count": 327,
   "metadata": {},
   "outputs": [
    {
     "data": {
      "image/png": "[encoded data removed]",
      "text/plain": [
       "<Figure size 1200x600 with 1 Axes>"
      ]
     },
     "metadata": {},
     "output_type": "display_data"
    },
    {
     "data": {
      "image/png": "[encoded data removed]",
      "text/plain": [
       "<Figure size 1200x600 with 1 Axes>"
      ]
     },
     "metadata": {},
     "output_type": "display_data"
    }
   ],
   "source": [
    "import seaborn as sns\n",
    "\n",
    "# Criando gráficos de distribuição para as variáveis mais importantes\n",
    "plt.figure(figsize=(12, 6))\n",
    "sns.boxplot(x=merged_df[\"customer_category\"], y=merged_df[\"total_payments\"])\n",
    "plt.title(\"Distribuição de Total de Pagamentos por Categoria\")\n",
    "plt.show()\n",
    "\n",
    "plt.figure(figsize=(12, 6))\n",
    "sns.boxplot(x=merged_df[\"customer_category\"], y=merged_df[\"late_rate\"])\n",
    "plt.title(\"Distribuição da Taxa de Atraso por Categoria\")\n",
    "plt.show()"
   ]
  },
  {
   "cell_type": "markdown",
   "metadata": {
    "colab_type": "text",
    "id": "HuKFKRPDCs4l"
   },
   "source": [
    "---\n",
    "## **Preparação dos Dados**\n",
    "\n",
    "Para preparar os dados para a construção do modelo, vamos usar a classe `LabelEncoder` para transformar variáveis categóricas em forma de texto como `payment_provider`, `paid_method` e a variavel alvo `customer_category` em números, para facilitar a visualização.  \n",
    "\n",
    "Em seguida, essas variáveis serão agrupadas com as demais variáveis categorias e todas elas serão transformadas através método OneHotEncoder()."
   ]
  },
  {
   "cell_type": "code",
   "execution_count": 328,
   "metadata": {
    "colab": {
     "base_uri": "https://localhost:8080/",
     "height": 270
    },
    "colab_type": "code",
    "id": "tKR5UwyBorcs",
    "outputId": "7e6b3599-3b43-41da-fc3b-c1755229452c"
   },
   "outputs": [],
   "source": [
    "cols_encode = [\"payment_provider\", \"paid_method\"]\n",
    "one_hot_enc = make_column_transformer(\n",
    "    (OneHotEncoder(handle_unknown=\"ignore\"), cols_encode), remainder=\"passthrough\"\n",
    ")\n",
    "\n",
    "df_train_encode = one_hot_enc.fit_transform(merged_df)\n",
    "df_train_encode = pd.DataFrame(\n",
    "    df_train_encode, columns=one_hot_enc.get_feature_names_out()\n",
    ")\n",
    "\n",
    "df_train_encode.columns = df_train_encode.columns.str.replace(\n",
    "    \"remainder__\", \"\"\n",
    ").str.replace(\"onehotencoder__\", \"\")\n",
    "\n",
    "df_train_encode[\"customer_category\"] = df_train_encode[\"customer_category\"].map(\n",
    "    {\n",
    "        \"Novos Pagadores\": 0,\n",
    "        \"Pagadores Duvidosos\": 1,\n",
    "        \"Bons Pagadores\": 2,\n",
    "        \"Pagadores Esquecidos\": 3,\n",
    "        \"Maus Pagadores\": 4,\n",
    "    }\n",
    ")\n",
    "\n",
    "with open(\"../models/modelo_onehotenc.pkl\", \"wb\") as file:\n",
    "    pickle.dump(one_hot_enc, file)"
   ]
  },
  {
   "cell_type": "markdown",
   "metadata": {
    "colab_type": "text",
    "id": "qbwHkjwTGws_"
   },
   "source": [
    "*O* próximo passo seria dividir o `dataset` em treino e teste e padronizar os dados utilizando a classe `StandardScaler`, mas como temos uma base de treinamento desbalanceada, vamos usar a função `resample` para criar um *dataset* balanceado e repetir, neste novo *dataset*, o mesmo processo de padronização dos dados. Em seguida, vamos verificar o balanceamento."
   ]
  },
  {
   "cell_type": "code",
   "execution_count": 329,
   "metadata": {
    "colab": {
     "base_uri": "https://localhost:8080/",
     "height": 478
    },
    "colab_type": "code",
    "id": "n1WDisLArzpI",
    "outputId": "f9768d7e-761d-4b60-b590-3dbeb57d026d"
   },
   "outputs": [
    {
     "name": "stdout",
     "output_type": "stream",
     "text": [
      "customer_category\n",
      "0    271114\n",
      "4    114901\n",
      "2     74705\n",
      "3     47256\n",
      "1     34252\n",
      "Name: count, dtype: int64 \n",
      "\n"
     ]
    },
    {
     "data": {
      "image/png": "[encoded data removed]",
      "text/plain": [
       "<Figure size 800x600 with 1 Axes>"
      ]
     },
     "metadata": {},
     "output_type": "display_data"
    }
   ],
   "source": [
    "# Criando o dataset balanceado\n",
    "maioria = df_train_encode[df_train_encode[\"customer_category\"] == 0]\n",
    "minoria = df_train_encode[df_train_encode[\"customer_category\"] != 0]\n",
    "\n",
    "minoria_balanceada = resample(minoria, replace=True, n_samples=len(maioria))\n",
    "\n",
    "df_balanceado = pd.concat([maioria, minoria_balanceada])\n",
    "\n",
    "# Verificando o balanceamento\n",
    "print(df_balanceado[\"customer_category\"].value_counts(), \"\\n\")\n",
    "\n",
    "fig, ax = plt.subplots(figsize=(8, 6))\n",
    "sns.countplot(df_balanceado, x=\"customer_category\")\n",
    "ax.set_title(\"Dados após o balnaceamento\")\n",
    "plt.show()"
   ]
  },
  {
   "cell_type": "markdown",
   "metadata": {
    "colab_type": "text",
    "id": "w5QWl0dYyzAs"
   },
   "source": [
    "---\n",
    "## **Machine Learning**\n",
    "\n",
    "Vamos usar quatro algoritmos diferentes para treinar modelos:\n",
    "* [Regressão Logística](https://pt.wikipedia.org/wiki/Regress%C3%A3o_log%C3%ADstica);\n",
    "* [Árvores de Decisão](https://medium.com/machine-learning-beyond-deep-learning/%C3%A1rvores-de-decis%C3%A3o-3f52f6420b69);\n",
    "* [Random Forest](https://en.wikipedia.org/wiki/Random_forest);\n",
    "* [XGBoost](https://pt.wikipedia.org/wiki/Xgboost).\n",
    "\n",
    "Usando a técnica de [validação cruzada](https://pt.wikipedia.org/wiki/Valida%C3%A7%C3%A3o_cruzada#:~:text=A%20valida%C3%A7%C3%A3o%20cruzada%20%C3%A9%20uma,da%20modelagem%20%C3%A9%20a%20predi%C3%A7%C3%A3o.), vamos ver o desempenho desses quatro algoritmos tanto com os dados balanceados, como com os dados desbalanceados e, portando, teremos dez modelos.\n",
    "Usaremos a seguinte [métrica](https://www.mariofilho.com/as-metricas-mais-populares-para-avaliar-modelos-de-machine-learning/) para avaliar os modelos:\n",
    "\n",
    "* Acurácia;\n",
    "\n",
    "Em seguida, vamos gerar um DataFrame com os resultados de cada um dos modelos para facilitar a visualização e a escolha do melhor modelo."
   ]
  },
  {
   "cell_type": "code",
   "execution_count": 345,
   "metadata": {},
   "outputs": [],
   "source": [
    "# Criando a variável alvo (target) - Categoria de Pagador\n",
    "target = \"customer_category\"\n",
    "features = [\n",
    "    \"total_payments\",\n",
    "    \"late_rate\",\n",
    "    \"late_payments\",\n",
    "    \"customer_payment_count\",\n",
    "    \"avg_delay\",\n",
    "    \"avg_time_to_pay\",\n",
    "    \"time_to_pay\",\n",
    "    \"delay_days\",\n",
    "]\n",
    "\n",
    "df_train_encode = df_train_encode.dropna(subset=features + [target])[features + [target]]\n",
    "\n",
    "X = df_train_encode.drop(\"customer_category\", axis=1)\n",
    "y = df_train_encode[\"customer_category\"]\n",
    "\n",
    "X_train, X_test, y_train, y_test = train_test_split(X, y)\n",
    "\n",
    "scaler = StandardScaler()\n",
    "scaler.fit(X_train)\n",
    "X_train = scaler.transform(X_train)\n",
    "X_test = scaler.transform(X_test)\n",
    "\n",
    "df_balanceado = df_balanceado.dropna(subset=features + [target])[features + [target]]\n",
    "\n",
    "X_balanceado = df_balanceado.drop(\"customer_category\", axis=1)\n",
    "y_balanceado = df_balanceado[\"customer_category\"]\n",
    "\n",
    "X_train_balanceado, X_test_balanceado, y_train_balanceado, y_test_balanceado = (\n",
    "    train_test_split(X_balanceado, y_balanceado)\n",
    ")\n",
    "\n",
    "scaler_balanceado = StandardScaler()\n",
    "scaler_balanceado.fit(X_train_balanceado)\n",
    "X_train_balanceado = scaler_balanceado.transform(X_train_balanceado)\n",
    "X_test_balanceado = scaler_balanceado.transform(X_test_balanceado)"
   ]
  },
  {
   "cell_type": "code",
   "execution_count": 347,
   "metadata": {
    "colab": {
     "base_uri": "https://localhost:8080/",
     "height": 208
    },
    "colab_type": "code",
    "id": "-Rb-G84N4UDZ",
    "outputId": "ce176106-dd3c-4d89-f8e6-ff6491a6ef50"
   },
   "outputs": [
    {
     "name": "stderr",
     "output_type": "stream",
     "text": [
      "/home/gerson/.cache/pypoetry/virtualenvs/neofin-machine-learning-engineer-challenge-wGnavEa_-py3.10/lib/python3.10/site-packages/sklearn/svm/_base.py:1237: ConvergenceWarning: Liblinear failed to converge, increase the number of iterations.\n",
      "  warnings.warn(\n",
      "/home/gerson/.cache/pypoetry/virtualenvs/neofin-machine-learning-engineer-challenge-wGnavEa_-py3.10/lib/python3.10/site-packages/sklearn/svm/_base.py:1237: ConvergenceWarning: Liblinear failed to converge, increase the number of iterations.\n",
      "  warnings.warn(\n",
      "/home/gerson/.cache/pypoetry/virtualenvs/neofin-machine-learning-engineer-challenge-wGnavEa_-py3.10/lib/python3.10/site-packages/sklearn/svm/_base.py:1237: ConvergenceWarning: Liblinear failed to converge, increase the number of iterations.\n",
      "  warnings.warn(\n",
      "/home/gerson/.cache/pypoetry/virtualenvs/neofin-machine-learning-engineer-challenge-wGnavEa_-py3.10/lib/python3.10/site-packages/sklearn/svm/_base.py:1237: ConvergenceWarning: Liblinear failed to converge, increase the number of iterations.\n",
      "  warnings.warn(\n"
     ]
    },
    {
     "data": {
      "text/html": [
       "<style type=\"text/css\">\n",
       "#T_4d597_row0_col3, #T_4d597_row1_col3, #T_4d597_row2_col0, #T_4d597_row2_col1, #T_4d597_row2_col2, #T_4d597_row2_col3, #T_4d597_row2_col4, #T_4d597_row3_col0, #T_4d597_row3_col1, #T_4d597_row3_col2, #T_4d597_row3_col3, #T_4d597_row3_col4, #T_4d597_row4_col0, #T_4d597_row4_col1, #T_4d597_row4_col2, #T_4d597_row4_col3, #T_4d597_row4_col4, #T_4d597_row5_col0, #T_4d597_row5_col1, #T_4d597_row5_col2, #T_4d597_row5_col3, #T_4d597_row5_col4, #T_4d597_row6_col0, #T_4d597_row6_col1, #T_4d597_row6_col2, #T_4d597_row6_col3, #T_4d597_row6_col4, #T_4d597_row7_col0, #T_4d597_row7_col1, #T_4d597_row7_col2, #T_4d597_row7_col3, #T_4d597_row7_col4 {\n",
       "  background-color: lightgreen;\n",
       "}\n",
       "</style>\n",
       "<table id=\"T_4d597\">\n",
       "  <thead>\n",
       "    <tr>\n",
       "      <th class=\"blank level0\" >&nbsp;</th>\n",
       "      <th id=\"T_4d597_level0_col0\" class=\"col_heading level0 col0\" >accuracy</th>\n",
       "      <th id=\"T_4d597_level0_col1\" class=\"col_heading level0 col1\" >precision_micro</th>\n",
       "      <th id=\"T_4d597_level0_col2\" class=\"col_heading level0 col2\" >recall_micro</th>\n",
       "      <th id=\"T_4d597_level0_col3\" class=\"col_heading level0 col3\" >roc_auc_ovo</th>\n",
       "      <th id=\"T_4d597_level0_col4\" class=\"col_heading level0 col4\" >f1_micro</th>\n",
       "    </tr>\n",
       "  </thead>\n",
       "  <tbody>\n",
       "    <tr>\n",
       "      <th id=\"T_4d597_level0_row0\" class=\"row_heading level0 row0\" >logreg_balanceado</th>\n",
       "      <td id=\"T_4d597_row0_col0\" class=\"data row0 col0\" >0.885503</td>\n",
       "      <td id=\"T_4d597_row0_col1\" class=\"data row0 col1\" >0.885503</td>\n",
       "      <td id=\"T_4d597_row0_col2\" class=\"data row0 col2\" >0.885503</td>\n",
       "      <td id=\"T_4d597_row0_col3\" class=\"data row0 col3\" >0.965143</td>\n",
       "      <td id=\"T_4d597_row0_col4\" class=\"data row0 col4\" >0.885503</td>\n",
       "    </tr>\n",
       "    <tr>\n",
       "      <th id=\"T_4d597_level0_row1\" class=\"row_heading level0 row1\" >logreg</th>\n",
       "      <td id=\"T_4d597_row1_col0\" class=\"data row1 col0\" >0.873877</td>\n",
       "      <td id=\"T_4d597_row1_col1\" class=\"data row1 col1\" >0.873877</td>\n",
       "      <td id=\"T_4d597_row1_col2\" class=\"data row1 col2\" >0.873877</td>\n",
       "      <td id=\"T_4d597_row1_col3\" class=\"data row1 col3\" >0.963907</td>\n",
       "      <td id=\"T_4d597_row1_col4\" class=\"data row1 col4\" >0.873877</td>\n",
       "    </tr>\n",
       "    <tr>\n",
       "      <th id=\"T_4d597_level0_row2\" class=\"row_heading level0 row2\" >trees_balanceado</th>\n",
       "      <td id=\"T_4d597_row2_col0\" class=\"data row2 col0\" >1.000000</td>\n",
       "      <td id=\"T_4d597_row2_col1\" class=\"data row2 col1\" >1.000000</td>\n",
       "      <td id=\"T_4d597_row2_col2\" class=\"data row2 col2\" >1.000000</td>\n",
       "      <td id=\"T_4d597_row2_col3\" class=\"data row2 col3\" >1.000000</td>\n",
       "      <td id=\"T_4d597_row2_col4\" class=\"data row2 col4\" >1.000000</td>\n",
       "    </tr>\n",
       "    <tr>\n",
       "      <th id=\"T_4d597_level0_row3\" class=\"row_heading level0 row3\" >trees</th>\n",
       "      <td id=\"T_4d597_row3_col0\" class=\"data row3 col0\" >1.000000</td>\n",
       "      <td id=\"T_4d597_row3_col1\" class=\"data row3 col1\" >1.000000</td>\n",
       "      <td id=\"T_4d597_row3_col2\" class=\"data row3 col2\" >1.000000</td>\n",
       "      <td id=\"T_4d597_row3_col3\" class=\"data row3 col3\" >1.000000</td>\n",
       "      <td id=\"T_4d597_row3_col4\" class=\"data row3 col4\" >1.000000</td>\n",
       "    </tr>\n",
       "    <tr>\n",
       "      <th id=\"T_4d597_level0_row4\" class=\"row_heading level0 row4\" >forest_balanceado</th>\n",
       "      <td id=\"T_4d597_row4_col0\" class=\"data row4 col0\" >1.000000</td>\n",
       "      <td id=\"T_4d597_row4_col1\" class=\"data row4 col1\" >1.000000</td>\n",
       "      <td id=\"T_4d597_row4_col2\" class=\"data row4 col2\" >1.000000</td>\n",
       "      <td id=\"T_4d597_row4_col3\" class=\"data row4 col3\" >1.000000</td>\n",
       "      <td id=\"T_4d597_row4_col4\" class=\"data row4 col4\" >1.000000</td>\n",
       "    </tr>\n",
       "    <tr>\n",
       "      <th id=\"T_4d597_level0_row5\" class=\"row_heading level0 row5\" >forest</th>\n",
       "      <td id=\"T_4d597_row5_col0\" class=\"data row5 col0\" >1.000000</td>\n",
       "      <td id=\"T_4d597_row5_col1\" class=\"data row5 col1\" >1.000000</td>\n",
       "      <td id=\"T_4d597_row5_col2\" class=\"data row5 col2\" >1.000000</td>\n",
       "      <td id=\"T_4d597_row5_col3\" class=\"data row5 col3\" >1.000000</td>\n",
       "      <td id=\"T_4d597_row5_col4\" class=\"data row5 col4\" >1.000000</td>\n",
       "    </tr>\n",
       "    <tr>\n",
       "      <th id=\"T_4d597_level0_row6\" class=\"row_heading level0 row6\" >xgb_balanceado</th>\n",
       "      <td id=\"T_4d597_row6_col0\" class=\"data row6 col0\" >1.000000</td>\n",
       "      <td id=\"T_4d597_row6_col1\" class=\"data row6 col1\" >1.000000</td>\n",
       "      <td id=\"T_4d597_row6_col2\" class=\"data row6 col2\" >1.000000</td>\n",
       "      <td id=\"T_4d597_row6_col3\" class=\"data row6 col3\" >1.000000</td>\n",
       "      <td id=\"T_4d597_row6_col4\" class=\"data row6 col4\" >1.000000</td>\n",
       "    </tr>\n",
       "    <tr>\n",
       "      <th id=\"T_4d597_level0_row7\" class=\"row_heading level0 row7\" >xgb</th>\n",
       "      <td id=\"T_4d597_row7_col0\" class=\"data row7 col0\" >1.000000</td>\n",
       "      <td id=\"T_4d597_row7_col1\" class=\"data row7 col1\" >1.000000</td>\n",
       "      <td id=\"T_4d597_row7_col2\" class=\"data row7 col2\" >1.000000</td>\n",
       "      <td id=\"T_4d597_row7_col3\" class=\"data row7 col3\" >1.000000</td>\n",
       "      <td id=\"T_4d597_row7_col4\" class=\"data row7 col4\" >1.000000</td>\n",
       "    </tr>\n",
       "  </tbody>\n",
       "</table>\n"
      ],
      "text/plain": [
       "<pandas.io.formats.style.Styler at 0x7afbf6f2b0a0>"
      ]
     },
     "execution_count": 347,
     "metadata": {},
     "output_type": "execute_result"
    }
   ],
   "source": [
    "# Criando os modelos utilizando validação cruzada\n",
    "logreg_balanceado = cross_validate(\n",
    "    LogisticRegression(solver=\"liblinear\"),\n",
    "    X_train_balanceado,\n",
    "    y_train_balanceado,\n",
    "    cv=5,\n",
    "    scoring=[\"accuracy\", \"precision_micro\", \"recall_micro\", \"roc_auc_ovo\", \"f1_micro\"],\n",
    ")\n",
    "logreg = cross_validate(\n",
    "    LogisticRegression(solver=\"liblinear\"),\n",
    "    X_train,\n",
    "    y_train,\n",
    "    cv=5,\n",
    "    scoring=[\"accuracy\", \"precision_micro\", \"recall_micro\", \"roc_auc_ovo\", \"f1_micro\"],\n",
    ")\n",
    "\n",
    "trees_balanceado = cross_validate(\n",
    "    DecisionTreeClassifier(),\n",
    "    X_train_balanceado,\n",
    "    y_train_balanceado,\n",
    "    cv=5,\n",
    "    scoring=[\"accuracy\", \"precision_micro\", \"recall_micro\", \"roc_auc_ovo\", \"f1_micro\"],\n",
    ")\n",
    "trees = cross_validate(\n",
    "    DecisionTreeClassifier(),\n",
    "    X_train,\n",
    "    y_train,\n",
    "    cv=5,\n",
    "    scoring=[\"accuracy\", \"precision_micro\", \"recall_micro\", \"roc_auc_ovo\", \"f1_micro\"],\n",
    ")\n",
    "\n",
    "forest_balanceado = cross_validate(\n",
    "    RandomForestClassifier(),\n",
    "    X_train_balanceado,\n",
    "    y_train_balanceado,\n",
    "    cv=5,\n",
    "    scoring=[\"accuracy\", \"precision_micro\", \"recall_micro\", \"roc_auc_ovo\", \"f1_micro\"],\n",
    ")\n",
    "forest = cross_validate(\n",
    "    RandomForestClassifier(),\n",
    "    X_train,\n",
    "    y_train,\n",
    "    cv=5,\n",
    "    scoring=[\"accuracy\", \"precision_micro\", \"recall_micro\", \"roc_auc_ovo\", \"f1_micro\"],\n",
    ")\n",
    "\n",
    "xgb_balanceado = cross_validate(\n",
    "    XGBClassifier(),\n",
    "    X_train_balanceado,\n",
    "    y_train_balanceado,\n",
    "    cv=5,\n",
    "    scoring=[\"accuracy\", \"precision_micro\", \"recall_micro\", \"roc_auc_ovo\", \"f1_micro\"],\n",
    ")\n",
    "xgb = cross_validate(\n",
    "    XGBClassifier(),\n",
    "    X_train,\n",
    "    y_train,\n",
    "    cv=5,\n",
    "    scoring=[\"accuracy\", \"precision_micro\", \"recall_micro\", \"roc_auc_ovo\", \"f1_micro\"],\n",
    ")\n",
    "\n",
    "# Gerando um DataFrame com os resultados de cada modelo\n",
    "summary = pd.DataFrame(\n",
    "    {\n",
    "        \"labels\": [\"accuracy\", \"precision_micro\", \"recall_micro\", \"roc_auc_ovo\", \"f1_micro\"],\n",
    "        \"logreg_balanceado\": [\n",
    "            logreg_balanceado[\"test_accuracy\"].mean(),\n",
    "            logreg_balanceado[\"test_precision_micro\"].mean(),\n",
    "            logreg_balanceado[\"test_recall_micro\"].mean(),\n",
    "            logreg_balanceado[\"test_roc_auc_ovo\"].mean(),\n",
    "            logreg_balanceado[\"test_f1_micro\"].mean(),\n",
    "        ],\n",
    "        \"logreg\": [\n",
    "            logreg[\"test_accuracy\"].mean(),\n",
    "            logreg[\"test_precision_micro\"].mean(),\n",
    "            logreg[\"test_recall_micro\"].mean(),\n",
    "            logreg[\"test_roc_auc_ovo\"].mean(),\n",
    "            logreg[\"test_f1_micro\"].mean(),\n",
    "        ],\n",
    "        \"trees_balanceado\": [\n",
    "            trees_balanceado[\"test_accuracy\"].mean(),\n",
    "            trees_balanceado[\"test_precision_micro\"].mean(),\n",
    "            trees_balanceado[\"test_recall_micro\"].mean(),\n",
    "            trees_balanceado[\"test_roc_auc_ovo\"].mean(),\n",
    "            trees_balanceado[\"test_f1_micro\"].mean(),\n",
    "        ],\n",
    "        \"trees\": [\n",
    "            trees[\"test_accuracy\"].mean(),\n",
    "            trees[\"test_precision_micro\"].mean(),\n",
    "            trees[\"test_recall_micro\"].mean(),\n",
    "            trees[\"test_roc_auc_ovo\"].mean(),\n",
    "            trees[\"test_f1_micro\"].mean(),\n",
    "        ],\n",
    "        \"forest_balanceado\": [\n",
    "            forest_balanceado[\"test_accuracy\"].mean(),\n",
    "            forest_balanceado[\"test_precision_micro\"].mean(),\n",
    "            forest_balanceado[\"test_recall_micro\"].mean(),\n",
    "            forest_balanceado[\"test_roc_auc_ovo\"].mean(),\n",
    "            forest_balanceado[\"test_f1_micro\"].mean(),\n",
    "        ],\n",
    "        \"forest\": [\n",
    "            forest[\"test_accuracy\"].mean(),\n",
    "            forest[\"test_precision_micro\"].mean(),\n",
    "            forest[\"test_recall_micro\"].mean(),\n",
    "            forest[\"test_roc_auc_ovo\"].mean(),\n",
    "            forest[\"test_f1_micro\"].mean(),\n",
    "        ],\n",
    "        \"xgb_balanceado\": [\n",
    "            xgb_balanceado[\"test_accuracy\"].mean(),\n",
    "            xgb_balanceado[\"test_precision_micro\"].mean(),\n",
    "            xgb_balanceado[\"test_recall_micro\"].mean(),\n",
    "            xgb_balanceado[\"test_roc_auc_ovo\"].mean(),\n",
    "            xgb_balanceado[\"test_f1_micro\"].mean(),\n",
    "        ],\n",
    "        \"xgb\": [\n",
    "            xgb[\"test_accuracy\"].mean(),\n",
    "            xgb[\"test_precision_micro\"].mean(),\n",
    "            xgb[\"test_recall_micro\"].mean(),\n",
    "            xgb[\"test_roc_auc_ovo\"].mean(),\n",
    "            xgb[\"test_f1_micro\"].mean(),\n",
    "        ],\n",
    "    }\n",
    ").set_index(\"labels\")\n",
    "summary.index.name = None\n",
    "summary = summary.transpose()\n",
    "summary.style.map(lambda x: \"background-color: lightgreen\" if x >= 0.95 else \"\")"
   ]
  },
  {
   "cell_type": "markdown",
   "metadata": {},
   "source": [
    "De uma forma geral, tanto os dados balanceados quando os dados não balanceados apresentaram melhores resultados considerando a métrica utilizada. Dentre os algoritmos, todos apresentaram bons resultados similares e foi escolido o ***`Random Forests`***, portanto, a combinação desse modelo com os dados não balanceados é a escolhida para este desafio."
   ]
  },
  {
   "cell_type": "code",
   "execution_count": 337,
   "metadata": {},
   "outputs": [
    {
     "name": "stdout",
     "output_type": "stream",
     "text": [
      "Acurácia do Modelo com Pipeline: 1.0000\n",
      "Accuracy: 1.0\n",
      "Recall: 1.0\n",
      "F1 Score: 1.0\n",
      "Classification Report:\n",
      "              precision    recall  f1-score   support\n",
      "\n",
      "           0       1.00      1.00      1.00     14041\n",
      "           1       1.00      1.00      1.00      2480\n",
      "           2       1.00      1.00      1.00      6230\n",
      "           3       1.00      1.00      1.00      3957\n",
      "           4       1.00      1.00      1.00      8302\n",
      "\n",
      "   micro avg       1.00      1.00      1.00     35010\n",
      "   macro avg       1.00      1.00      1.00     35010\n",
      "weighted avg       1.00      1.00      1.00     35010\n",
      " samples avg       1.00      1.00      1.00     35010\n",
      "\n",
      "Modelo salvo como 'customer_classification_pipeline.pkl'\n"
     ]
    }
   ],
   "source": [
    "import joblib\n",
    "\n",
    "target = \"customer_category\"\n",
    "features = [\n",
    "    \"total_payments\",\n",
    "    \"late_rate\",\n",
    "    \"late_payments\",\n",
    "    \"customer_payment_count\",\n",
    "    \"avg_delay\",\n",
    "    \"avg_time_to_pay\",\n",
    "    \"time_to_pay\",\n",
    "    \"delay_days\",\n",
    "]\n",
    "\n",
    "df_train_encode = df_train_encode.dropna(subset=features + [target])[features + [target]]\n",
    "\n",
    "# Transformando a variável alvo em numérica (OneHotEncoder)\n",
    "target_encoder = OneHotEncoder()\n",
    "X = df_train_encode.drop(\"customer_category\", axis=1)\n",
    "y = target_encoder.fit_transform(df_train_encode[[\"customer_category\"]]).toarray()\n",
    "\n",
    "X_train, X_test, y_train, y_test = train_test_split(X, y, test_size=0.2)\n",
    "\n",
    "# Salvando o OneHotEncoder para uso futuro\n",
    "joblib.dump(target_encoder, \"../models/target_encoder.pkl\")\n",
    "\n",
    "# Criando um pipeline para normalização e modelagem\n",
    "pipeline = Pipeline(\n",
    "    [\n",
    "        (\"scaler\", StandardScaler()),  # Normaliza os dados\n",
    "        (\"classifier\", RandomForestClassifier(n_estimators=100, random_state=42)),  # Modelo\n",
    "    ]\n",
    ")\n",
    "\n",
    "# Treinando o pipeline\n",
    "pipeline.fit(X_train, y_train)\n",
    "\n",
    "# Fazendo previsões\n",
    "y_pred_updated = pipeline.predict(X_test)\n",
    "\n",
    "# Avaliando o modelo\n",
    "updated_accuracy = pipeline.score(X_test, y_test)\n",
    "print(f\"Acurácia do Modelo com Pipeline: {updated_accuracy:.4f}\")\n",
    "\n",
    "accuracy = accuracy_score(y_test, y_pred_updated)\n",
    "recall = recall_score(y_test, y_pred_updated, average=\"weighted\")\n",
    "f1 = f1_score(y_test, y_pred_updated, average=\"weighted\")\n",
    "class_report = classification_report(y_test, y_pred_updated)\n",
    "\n",
    "print(f\"Accuracy: {accuracy}\")\n",
    "print(f\"Recall: {recall}\")\n",
    "print(f\"F1 Score: {f1}\")\n",
    "print(f\"Classification Report:\\n{class_report}\")\n",
    "\n",
    "# Salvando o modelo treinado\n",
    "joblib.dump(pipeline, \"../models/customer_classification_pipeline.pkl\")\n",
    "print(\"Modelo salvo como 'customer_classification_pipeline.pkl'\")"
   ]
  },
  {
   "cell_type": "markdown",
   "metadata": {
    "colab_type": "text",
    "id": "RddI3ve31oDu"
   },
   "source": [
    "## **Conclusão**\n",
    "\n",
    "Neste desafio, trabalhamos com um problema de identificação de customer com o objetivo de construir um modelo de *machine learning* capaz de identificar possíveis perfis. Para isso, passo pelas seguintes etapas:\n",
    "\n",
    "* Exploração e limpeza dos dados;\n",
    "* Análise dos dados e *feature engineering*;\n",
    "* Preparação dos dados para *machine learning*;\n",
    "* Seleção do algoritmo;\n",
    "* Ajuste, treinamento e avaliação de um modelo de *machine learning*.\n",
    "\n",
    "Como resultado, além de alguns *insights* relevantes sobre o impacto de algumas características na variável alvo, foi construído um modelo preditivo que demonstrou acurácia de 99%, sendo considerado um resultado satisfatório e, portando, cumprindo o objetivo inicialmente proposto.\n",
    "\n",
    "Caso tenha alguma dúvida, sugestão ou feedback, sinta-se à vontade para entrar em contato via [GitHub](https://github.com/GersonRS) ou [Linkedin](https://www.linkedin.com/in/gersonrsantos/).\n"
   ]
  },
  {
   "cell_type": "code",
   "execution_count": 338,
   "metadata": {},
   "outputs": [
    {
     "name": "stdout",
     "output_type": "stream",
     "text": [
      "Features usadas no treinamento: ['total_payments' 'late_rate' 'late_payments' 'customer_payment_count'\n",
      " 'avg_delay' 'avg_time_to_pay' 'time_to_pay' 'delay_days']\n"
     ]
    }
   ],
   "source": [
    "import joblib\n",
    "\n",
    "# Carregar o pipeline treinado\n",
    "pipeline = joblib.load(\"../models/customer_classification_pipeline.pkl\")\n",
    "\n",
    "# Obter a lista de features usadas no treinamento\n",
    "features_used_in_training = pipeline[\"scaler\"].get_feature_names_out()\n",
    "\n",
    "print(\"Features usadas no treinamento:\", features_used_in_training)"
   ]
  }
 ],
 "metadata": {
  "colab": {
   "authorship_tag": "ABX9TyMwvvHQkQMnEJCOjKi5Dw/Q",
   "collapsed_sections": [],
   "include_colab_link": true,
   "name": "Análise de Risco de Crédito com Machine Learning.ipynb",
   "provenance": []
  },
  "kernelspec": {
   "display_name": "neofin-machine-learning-engineer-challenge-wGnavEa_-py3.10",
   "language": "python",
   "name": "python3"
  },
  "language_info": {
   "codemirror_mode": {
    "name": "ipython",
    "version": 3
   },
   "file_extension": ".py",
   "mimetype": "text/x-python",
   "name": "python",
   "nbconvert_exporter": "python",
   "pygments_lexer": "ipython3",
   "version": "3.10.12"
  }
 },
 "nbformat": 4,
 "nbformat_minor": 0
}
